{
 "cells": [
  {
   "cell_type": "code",
   "execution_count": 1,
   "metadata": {},
   "outputs": [],
   "source": [
    "import pandas as pd\n",
    "import numpy as np\n",
    "import matplotlib.pyplot as plt\n",
    "import seaborn as sns\n",
    "import sklearn\n",
    "from sklearn.preprocessing import LabelEncoder\n",
    "from forex_python.converter import CurrencyRates \n",
    "from sklearn.model_selection import train_test_split\n",
    "from sklearn.metrics import mean_squared_error\n",
    "\n",
    "\n",
    "%matplotlib inline\n",
    "import warnings\n",
    "warnings.filterwarnings(\"ignore\")\n",
    "\n",
    "pd. set_option('display.max_columns', 1000) \n",
    "pd. set_option('display.max_rows', 1000)\n",
    "\n",
    "from datetime import datetime\n",
    "from datetime import timedelta"
   ]
  },
  {
   "cell_type": "code",
   "execution_count": 2,
   "metadata": {},
   "outputs": [],
   "source": [
    "#reading the dataset\n",
    "data=pd.read_csv('Payment Date Prediction.csv')"
   ]
  },
  {
   "cell_type": "code",
   "execution_count": 3,
   "metadata": {},
   "outputs": [],
   "source": [
    "df=pd.DataFrame(data)"
   ]
  },
  {
   "cell_type": "code",
   "execution_count": 4,
   "metadata": {},
   "outputs": [],
   "source": [
    "#dropping a column \n",
    "df=df.drop('area_business',axis=1)"
   ]
  },
  {
   "cell_type": "code",
   "execution_count": 5,
   "metadata": {},
   "outputs": [
    {
     "data": {
      "text/plain": [
       "(50000, 18)"
      ]
     },
     "execution_count": 5,
     "metadata": {},
     "output_type": "execute_result"
    }
   ],
   "source": [
    "df.shape"
   ]
  },
  {
   "cell_type": "code",
   "execution_count": 6,
   "metadata": {},
   "outputs": [],
   "source": [
    "#using fillna method\n",
    "df['invoice_id'].fillna(df['doc_id'], inplace=True)"
   ]
  },
  {
   "cell_type": "code",
   "execution_count": 7,
   "metadata": {},
   "outputs": [
    {
     "data": {
      "text/plain": [
       "business_code                 0\n",
       "cust_number                   0\n",
       "name_customer                 0\n",
       "clear_date                10000\n",
       "buisness_year                 0\n",
       "doc_id                        0\n",
       "posting_date                  0\n",
       "document_create_date          0\n",
       "document_create_date.1        0\n",
       "due_in_date                   0\n",
       "invoice_currency              0\n",
       "document type                 0\n",
       "posting_id                    0\n",
       "total_open_amount             0\n",
       "baseline_create_date          0\n",
       "cust_payment_terms            0\n",
       "invoice_id                    0\n",
       "isOpen                        0\n",
       "dtype: int64"
      ]
     },
     "execution_count": 7,
     "metadata": {},
     "output_type": "execute_result"
    }
   ],
   "source": [
    "#checking the null values\n",
    "df.isnull().sum()"
   ]
  },
  {
   "cell_type": "code",
   "execution_count": 8,
   "metadata": {},
   "outputs": [
    {
     "data": {
      "text/plain": [
       "business_code             False\n",
       "cust_number               False\n",
       "name_customer             False\n",
       "clear_date                False\n",
       "buisness_year             False\n",
       "doc_id                    False\n",
       "posting_date              False\n",
       "document_create_date      False\n",
       "document_create_date.1    False\n",
       "due_in_date               False\n",
       "invoice_currency          False\n",
       "document type             False\n",
       "posting_id                False\n",
       "total_open_amount         False\n",
       "baseline_create_date      False\n",
       "cust_payment_terms        False\n",
       "invoice_id                 True\n",
       "isOpen                    False\n",
       "dtype: bool"
      ]
     },
     "execution_count": 8,
     "metadata": {},
     "output_type": "execute_result"
    }
   ],
   "source": [
    "#checking the duplicate \n",
    "df_trans = df.T\n",
    "df_trans.duplicated()"
   ]
  },
  {
   "cell_type": "code",
   "execution_count": 9,
   "metadata": {},
   "outputs": [
    {
     "data": {
      "text/plain": [
       "50000"
      ]
     },
     "execution_count": 9,
     "metadata": {},
     "output_type": "execute_result"
    }
   ],
   "source": [
    "(df['doc_id'] == df['invoice_id']).sum()"
   ]
  },
  {
   "cell_type": "code",
   "execution_count": 10,
   "metadata": {},
   "outputs": [],
   "source": [
    "#dropping a column\n",
    "df = df.drop(columns=['doc_id'])  "
   ]
  },
  {
   "cell_type": "code",
   "execution_count": 11,
   "metadata": {},
   "outputs": [
    {
     "data": {
      "text/plain": [
       "20899"
      ]
     },
     "execution_count": 11,
     "metadata": {},
     "output_type": "execute_result"
    }
   ],
   "source": [
    "(df['document_create_date'] == df['document_create_date.1']).sum()"
   ]
  },
  {
   "cell_type": "code",
   "execution_count": 12,
   "metadata": {},
   "outputs": [],
   "source": [
    "df = df.drop(columns=['document_create_date.1'])  "
   ]
  },
  {
   "cell_type": "code",
   "execution_count": 13,
   "metadata": {},
   "outputs": [
    {
     "data": {
      "text/plain": [
       "business_code               6\n",
       "cust_number              1421\n",
       "name_customer            4207\n",
       "clear_date                400\n",
       "buisness_year               2\n",
       "posting_date              505\n",
       "document_create_date      507\n",
       "due_in_date               550\n",
       "invoice_currency            2\n",
       "document type               2\n",
       "posting_id                  1\n",
       "total_open_amount       44195\n",
       "baseline_create_date      504\n",
       "cust_payment_terms         70\n",
       "invoice_id              48886\n",
       "isOpen                      2\n",
       "dtype: int64"
      ]
     },
     "execution_count": 13,
     "metadata": {},
     "output_type": "execute_result"
    }
   ],
   "source": [
    "#checking unique value\n",
    "df.nunique()"
   ]
  },
  {
   "cell_type": "code",
   "execution_count": 14,
   "metadata": {},
   "outputs": [],
   "source": [
    "df.drop(columns = ['posting_id'],axis=1,inplace=True)"
   ]
  },
  {
   "cell_type": "code",
   "execution_count": 15,
   "metadata": {},
   "outputs": [],
   "source": [
    "#checking the null value and then separate into train,test\n",
    "train_df=df[df['clear_date'].notnull()]"
   ]
  },
  {
   "cell_type": "code",
   "execution_count": 16,
   "metadata": {},
   "outputs": [],
   "source": [
    "test_df=df[df['clear_date'].isnull()]"
   ]
  },
  {
   "cell_type": "code",
   "execution_count": 17,
   "metadata": {},
   "outputs": [
    {
     "name": "stdout",
     "output_type": "stream",
     "text": [
      "<class 'pandas.core.frame.DataFrame'>\n",
      "Int64Index: 40000 entries, 0 to 49999\n",
      "Data columns (total 15 columns):\n",
      " #   Column                Non-Null Count  Dtype  \n",
      "---  ------                --------------  -----  \n",
      " 0   business_code         40000 non-null  object \n",
      " 1   cust_number           40000 non-null  object \n",
      " 2   name_customer         40000 non-null  object \n",
      " 3   clear_date            40000 non-null  object \n",
      " 4   buisness_year         40000 non-null  float64\n",
      " 5   posting_date          40000 non-null  object \n",
      " 6   document_create_date  40000 non-null  int64  \n",
      " 7   due_in_date           40000 non-null  float64\n",
      " 8   invoice_currency      40000 non-null  object \n",
      " 9   document type         40000 non-null  object \n",
      " 10  total_open_amount     40000 non-null  float64\n",
      " 11  baseline_create_date  40000 non-null  float64\n",
      " 12  cust_payment_terms    40000 non-null  object \n",
      " 13  invoice_id            40000 non-null  float64\n",
      " 14  isOpen                40000 non-null  int64  \n",
      "dtypes: float64(5), int64(2), object(8)\n",
      "memory usage: 4.9+ MB\n"
     ]
    }
   ],
   "source": [
    "train_df.info()"
   ]
  },
  {
   "cell_type": "code",
   "execution_count": 18,
   "metadata": {},
   "outputs": [],
   "source": [
    "#changing to datetime\n",
    "train_df['clear_date']=pd.to_datetime(train_df['clear_date'])\n",
    "test_df['clear_date']=pd.to_datetime(test_df['clear_date'])"
   ]
  },
  {
   "cell_type": "code",
   "execution_count": 19,
   "metadata": {},
   "outputs": [],
   "source": [
    "train_df['posting_date']=pd.to_datetime(train_df['posting_date'])\n",
    "test_df['posting_date']=pd.to_datetime(test_df['posting_date'])"
   ]
  },
  {
   "cell_type": "code",
   "execution_count": 20,
   "metadata": {},
   "outputs": [],
   "source": [
    "train_df['document_create_date']=pd.to_datetime(train_df['document_create_date'], format='%Y%m%d')\n",
    "test_df['document_create_date']=pd.to_datetime(test_df['document_create_date'], format='%Y%m%d')"
   ]
  },
  {
   "cell_type": "code",
   "execution_count": 21,
   "metadata": {},
   "outputs": [],
   "source": [
    "train_df['due_in_date']=pd.to_datetime(train_df['due_in_date'], format='%Y%m%d')\n",
    "test_df['due_in_date']=pd.to_datetime(test_df['due_in_date'], format='%Y%m%d')"
   ]
  },
  {
   "cell_type": "code",
   "execution_count": 22,
   "metadata": {},
   "outputs": [],
   "source": [
    "train_df['baseline_create_date']=pd.to_datetime(train_df['baseline_create_date'], format='%Y%m%d')\n",
    "test_df['baseline_create_date']=pd.to_datetime(test_df['baseline_create_date'], format='%Y%m%d')"
   ]
  },
  {
   "cell_type": "code",
   "execution_count": 23,
   "metadata": {},
   "outputs": [
    {
     "name": "stdout",
     "output_type": "stream",
     "text": [
      "<class 'pandas.core.frame.DataFrame'>\n",
      "Int64Index: 40000 entries, 0 to 49999\n",
      "Data columns (total 15 columns):\n",
      " #   Column                Non-Null Count  Dtype         \n",
      "---  ------                --------------  -----         \n",
      " 0   business_code         40000 non-null  object        \n",
      " 1   cust_number           40000 non-null  object        \n",
      " 2   name_customer         40000 non-null  object        \n",
      " 3   clear_date            40000 non-null  datetime64[ns]\n",
      " 4   buisness_year         40000 non-null  float64       \n",
      " 5   posting_date          40000 non-null  datetime64[ns]\n",
      " 6   document_create_date  40000 non-null  datetime64[ns]\n",
      " 7   due_in_date           40000 non-null  datetime64[ns]\n",
      " 8   invoice_currency      40000 non-null  object        \n",
      " 9   document type         40000 non-null  object        \n",
      " 10  total_open_amount     40000 non-null  float64       \n",
      " 11  baseline_create_date  40000 non-null  datetime64[ns]\n",
      " 12  cust_payment_terms    40000 non-null  object        \n",
      " 13  invoice_id            40000 non-null  float64       \n",
      " 14  isOpen                40000 non-null  int64         \n",
      "dtypes: datetime64[ns](5), float64(3), int64(1), object(6)\n",
      "memory usage: 4.9+ MB\n"
     ]
    }
   ],
   "source": [
    "train_df.info()"
   ]
  },
  {
   "cell_type": "code",
   "execution_count": 24,
   "metadata": {},
   "outputs": [],
   "source": [
    "train_df['invoice_id']=train_df['invoice_id'].astype(str)\n",
    "test_df['invoice_id']=test_df['invoice_id'].astype(str)"
   ]
  },
  {
   "cell_type": "code",
   "execution_count": 25,
   "metadata": {},
   "outputs": [],
   "source": [
    "train_df['buisness_year']=train_df['buisness_year'].astype(str)\n",
    "train_df['buisness_year']=train_df['buisness_year'].str[:-2]\n",
    "test_df['buisness_year']=test_df['buisness_year'].astype(str)\n",
    "test_df['buisness_year']=test_df['buisness_year'].str[:-2]"
   ]
  },
  {
   "cell_type": "code",
   "execution_count": 26,
   "metadata": {},
   "outputs": [
    {
     "data": {
      "text/html": [
       "<div>\n",
       "<style scoped>\n",
       "    .dataframe tbody tr th:only-of-type {\n",
       "        vertical-align: middle;\n",
       "    }\n",
       "\n",
       "    .dataframe tbody tr th {\n",
       "        vertical-align: top;\n",
       "    }\n",
       "\n",
       "    .dataframe thead th {\n",
       "        text-align: right;\n",
       "    }\n",
       "</style>\n",
       "<table border=\"1\" class=\"dataframe\">\n",
       "  <thead>\n",
       "    <tr style=\"text-align: right;\">\n",
       "      <th></th>\n",
       "      <th>business_code</th>\n",
       "      <th>cust_number</th>\n",
       "      <th>name_customer</th>\n",
       "      <th>clear_date</th>\n",
       "      <th>buisness_year</th>\n",
       "      <th>posting_date</th>\n",
       "      <th>document_create_date</th>\n",
       "      <th>due_in_date</th>\n",
       "      <th>invoice_currency</th>\n",
       "      <th>document type</th>\n",
       "      <th>total_open_amount</th>\n",
       "      <th>baseline_create_date</th>\n",
       "      <th>cust_payment_terms</th>\n",
       "      <th>invoice_id</th>\n",
       "      <th>isOpen</th>\n",
       "    </tr>\n",
       "  </thead>\n",
       "  <tbody>\n",
       "    <tr>\n",
       "      <th>0</th>\n",
       "      <td>U001</td>\n",
       "      <td>0200769623</td>\n",
       "      <td>WAL-MAR systems</td>\n",
       "      <td>2019-04-19</td>\n",
       "      <td>2019</td>\n",
       "      <td>2019-04-03</td>\n",
       "      <td>2019-04-03</td>\n",
       "      <td>2019-04-18</td>\n",
       "      <td>USD</td>\n",
       "      <td>RV</td>\n",
       "      <td>55602.94</td>\n",
       "      <td>2019-04-03</td>\n",
       "      <td>NAH4</td>\n",
       "      <td>1929075498.0</td>\n",
       "      <td>0</td>\n",
       "    </tr>\n",
       "    <tr>\n",
       "      <th>1</th>\n",
       "      <td>U001</td>\n",
       "      <td>0200124634</td>\n",
       "      <td>BAKEMAR associates</td>\n",
       "      <td>2020-03-11</td>\n",
       "      <td>2020</td>\n",
       "      <td>2020-02-26</td>\n",
       "      <td>2020-02-26</td>\n",
       "      <td>2020-03-07</td>\n",
       "      <td>USD</td>\n",
       "      <td>RV</td>\n",
       "      <td>8345.60</td>\n",
       "      <td>2020-02-26</td>\n",
       "      <td>NA10</td>\n",
       "      <td>1930572616.0</td>\n",
       "      <td>0</td>\n",
       "    </tr>\n",
       "    <tr>\n",
       "      <th>2</th>\n",
       "      <td>U001</td>\n",
       "      <td>0200759878</td>\n",
       "      <td>SA us</td>\n",
       "      <td>2019-01-28</td>\n",
       "      <td>2019</td>\n",
       "      <td>2019-01-05</td>\n",
       "      <td>2019-01-04</td>\n",
       "      <td>2019-01-20</td>\n",
       "      <td>USD</td>\n",
       "      <td>RV</td>\n",
       "      <td>13768.73</td>\n",
       "      <td>2019-01-05</td>\n",
       "      <td>NAH4</td>\n",
       "      <td>1928566866.0</td>\n",
       "      <td>0</td>\n",
       "    </tr>\n",
       "    <tr>\n",
       "      <th>3</th>\n",
       "      <td>U001</td>\n",
       "      <td>0200769623</td>\n",
       "      <td>WAL-MAR associates</td>\n",
       "      <td>2019-01-25</td>\n",
       "      <td>2019</td>\n",
       "      <td>2019-01-15</td>\n",
       "      <td>2019-01-14</td>\n",
       "      <td>2019-01-30</td>\n",
       "      <td>USD</td>\n",
       "      <td>RV</td>\n",
       "      <td>7463.23</td>\n",
       "      <td>2019-01-15</td>\n",
       "      <td>NAH4</td>\n",
       "      <td>1928619184.0</td>\n",
       "      <td>0</td>\n",
       "    </tr>\n",
       "    <tr>\n",
       "      <th>5</th>\n",
       "      <td>U001</td>\n",
       "      <td>0200799367</td>\n",
       "      <td>MCL corp</td>\n",
       "      <td>2019-11-04</td>\n",
       "      <td>2019</td>\n",
       "      <td>2019-10-18</td>\n",
       "      <td>2019-10-17</td>\n",
       "      <td>2019-11-02</td>\n",
       "      <td>USD</td>\n",
       "      <td>RV</td>\n",
       "      <td>18501.55</td>\n",
       "      <td>2019-10-18</td>\n",
       "      <td>NAA8</td>\n",
       "      <td>1930024400.0</td>\n",
       "      <td>0</td>\n",
       "    </tr>\n",
       "    <tr>\n",
       "      <th>...</th>\n",
       "      <td>...</td>\n",
       "      <td>...</td>\n",
       "      <td>...</td>\n",
       "      <td>...</td>\n",
       "      <td>...</td>\n",
       "      <td>...</td>\n",
       "      <td>...</td>\n",
       "      <td>...</td>\n",
       "      <td>...</td>\n",
       "      <td>...</td>\n",
       "      <td>...</td>\n",
       "      <td>...</td>\n",
       "      <td>...</td>\n",
       "      <td>...</td>\n",
       "      <td>...</td>\n",
       "    </tr>\n",
       "    <tr>\n",
       "      <th>49995</th>\n",
       "      <td>U001</td>\n",
       "      <td>0200769623</td>\n",
       "      <td>WAL-MAR corporation</td>\n",
       "      <td>2019-05-17</td>\n",
       "      <td>2019</td>\n",
       "      <td>2019-05-07</td>\n",
       "      <td>2019-05-06</td>\n",
       "      <td>2019-05-22</td>\n",
       "      <td>USD</td>\n",
       "      <td>RV</td>\n",
       "      <td>6532.60</td>\n",
       "      <td>2019-05-07</td>\n",
       "      <td>NAH4</td>\n",
       "      <td>1929270469.0</td>\n",
       "      <td>0</td>\n",
       "    </tr>\n",
       "    <tr>\n",
       "      <th>49996</th>\n",
       "      <td>U001</td>\n",
       "      <td>0200777735</td>\n",
       "      <td>NASH  foundation</td>\n",
       "      <td>2020-01-21</td>\n",
       "      <td>2020</td>\n",
       "      <td>2020-01-06</td>\n",
       "      <td>2020-01-06</td>\n",
       "      <td>2020-01-21</td>\n",
       "      <td>USD</td>\n",
       "      <td>RV</td>\n",
       "      <td>84123.80</td>\n",
       "      <td>2020-01-06</td>\n",
       "      <td>NAA8</td>\n",
       "      <td>1930362933.0</td>\n",
       "      <td>0</td>\n",
       "    </tr>\n",
       "    <tr>\n",
       "      <th>49997</th>\n",
       "      <td>U001</td>\n",
       "      <td>0200965912</td>\n",
       "      <td>C&amp;S W trust</td>\n",
       "      <td>2019-12-02</td>\n",
       "      <td>2019</td>\n",
       "      <td>2019-11-14</td>\n",
       "      <td>2019-11-14</td>\n",
       "      <td>2019-11-29</td>\n",
       "      <td>USD</td>\n",
       "      <td>RV</td>\n",
       "      <td>22325.58</td>\n",
       "      <td>2019-11-14</td>\n",
       "      <td>NAC6</td>\n",
       "      <td>1930153056.0</td>\n",
       "      <td>0</td>\n",
       "    </tr>\n",
       "    <tr>\n",
       "      <th>49998</th>\n",
       "      <td>U001</td>\n",
       "      <td>0200729942</td>\n",
       "      <td>SA corp</td>\n",
       "      <td>2019-10-29</td>\n",
       "      <td>2019</td>\n",
       "      <td>2019-10-14</td>\n",
       "      <td>2019-10-14</td>\n",
       "      <td>2019-10-29</td>\n",
       "      <td>USD</td>\n",
       "      <td>RV</td>\n",
       "      <td>25563.51</td>\n",
       "      <td>2019-10-14</td>\n",
       "      <td>NAA8</td>\n",
       "      <td>1930013127.0</td>\n",
       "      <td>0</td>\n",
       "    </tr>\n",
       "    <tr>\n",
       "      <th>49999</th>\n",
       "      <td>U001</td>\n",
       "      <td>0200762950</td>\n",
       "      <td>HAR trust</td>\n",
       "      <td>2019-12-20</td>\n",
       "      <td>2019</td>\n",
       "      <td>2019-12-06</td>\n",
       "      <td>2019-12-05</td>\n",
       "      <td>2019-12-21</td>\n",
       "      <td>USD</td>\n",
       "      <td>RV</td>\n",
       "      <td>161070.91</td>\n",
       "      <td>2019-12-06</td>\n",
       "      <td>NAA8</td>\n",
       "      <td>1930219052.0</td>\n",
       "      <td>0</td>\n",
       "    </tr>\n",
       "  </tbody>\n",
       "</table>\n",
       "<p>40000 rows × 15 columns</p>\n",
       "</div>"
      ],
      "text/plain": [
       "      business_code cust_number        name_customer clear_date buisness_year  \\\n",
       "0              U001  0200769623      WAL-MAR systems 2019-04-19          2019   \n",
       "1              U001  0200124634   BAKEMAR associates 2020-03-11          2020   \n",
       "2              U001  0200759878                SA us 2019-01-28          2019   \n",
       "3              U001  0200769623   WAL-MAR associates 2019-01-25          2019   \n",
       "5              U001  0200799367             MCL corp 2019-11-04          2019   \n",
       "...             ...         ...                  ...        ...           ...   \n",
       "49995          U001  0200769623  WAL-MAR corporation 2019-05-17          2019   \n",
       "49996          U001  0200777735     NASH  foundation 2020-01-21          2020   \n",
       "49997          U001  0200965912          C&S W trust 2019-12-02          2019   \n",
       "49998          U001  0200729942              SA corp 2019-10-29          2019   \n",
       "49999          U001  0200762950            HAR trust 2019-12-20          2019   \n",
       "\n",
       "      posting_date document_create_date due_in_date invoice_currency  \\\n",
       "0       2019-04-03           2019-04-03  2019-04-18              USD   \n",
       "1       2020-02-26           2020-02-26  2020-03-07              USD   \n",
       "2       2019-01-05           2019-01-04  2019-01-20              USD   \n",
       "3       2019-01-15           2019-01-14  2019-01-30              USD   \n",
       "5       2019-10-18           2019-10-17  2019-11-02              USD   \n",
       "...            ...                  ...         ...              ...   \n",
       "49995   2019-05-07           2019-05-06  2019-05-22              USD   \n",
       "49996   2020-01-06           2020-01-06  2020-01-21              USD   \n",
       "49997   2019-11-14           2019-11-14  2019-11-29              USD   \n",
       "49998   2019-10-14           2019-10-14  2019-10-29              USD   \n",
       "49999   2019-12-06           2019-12-05  2019-12-21              USD   \n",
       "\n",
       "      document type  total_open_amount baseline_create_date  \\\n",
       "0                RV           55602.94           2019-04-03   \n",
       "1                RV            8345.60           2020-02-26   \n",
       "2                RV           13768.73           2019-01-05   \n",
       "3                RV            7463.23           2019-01-15   \n",
       "5                RV           18501.55           2019-10-18   \n",
       "...             ...                ...                  ...   \n",
       "49995            RV            6532.60           2019-05-07   \n",
       "49996            RV           84123.80           2020-01-06   \n",
       "49997            RV           22325.58           2019-11-14   \n",
       "49998            RV           25563.51           2019-10-14   \n",
       "49999            RV          161070.91           2019-12-06   \n",
       "\n",
       "      cust_payment_terms    invoice_id  isOpen  \n",
       "0                   NAH4  1929075498.0       0  \n",
       "1                   NA10  1930572616.0       0  \n",
       "2                   NAH4  1928566866.0       0  \n",
       "3                   NAH4  1928619184.0       0  \n",
       "5                   NAA8  1930024400.0       0  \n",
       "...                  ...           ...     ...  \n",
       "49995               NAH4  1929270469.0       0  \n",
       "49996               NAA8  1930362933.0       0  \n",
       "49997               NAC6  1930153056.0       0  \n",
       "49998               NAA8  1930013127.0       0  \n",
       "49999               NAA8  1930219052.0       0  \n",
       "\n",
       "[40000 rows x 15 columns]"
      ]
     },
     "execution_count": 26,
     "metadata": {},
     "output_type": "execute_result"
    }
   ],
   "source": [
    "train_df"
   ]
  },
  {
   "cell_type": "code",
   "execution_count": 27,
   "metadata": {},
   "outputs": [],
   "source": [
    "#finding the target value\n",
    "train_df[\"delay\"] = train_df[\"clear_date\"] - train_df[\"due_in_date\"]"
   ]
  },
  {
   "cell_type": "code",
   "execution_count": 28,
   "metadata": {},
   "outputs": [],
   "source": [
    "#sorting the dataframe using sort function\n",
    "train_df=train_df.sort_values(by = 'posting_date')"
   ]
  },
  {
   "cell_type": "code",
   "execution_count": 29,
   "metadata": {},
   "outputs": [
    {
     "data": {
      "text/html": [
       "<div>\n",
       "<style scoped>\n",
       "    .dataframe tbody tr th:only-of-type {\n",
       "        vertical-align: middle;\n",
       "    }\n",
       "\n",
       "    .dataframe tbody tr th {\n",
       "        vertical-align: top;\n",
       "    }\n",
       "\n",
       "    .dataframe thead th {\n",
       "        text-align: right;\n",
       "    }\n",
       "</style>\n",
       "<table border=\"1\" class=\"dataframe\">\n",
       "  <thead>\n",
       "    <tr style=\"text-align: right;\">\n",
       "      <th></th>\n",
       "      <th>business_code</th>\n",
       "      <th>cust_number</th>\n",
       "      <th>name_customer</th>\n",
       "      <th>clear_date</th>\n",
       "      <th>buisness_year</th>\n",
       "      <th>posting_date</th>\n",
       "      <th>document_create_date</th>\n",
       "      <th>due_in_date</th>\n",
       "      <th>invoice_currency</th>\n",
       "      <th>document type</th>\n",
       "      <th>total_open_amount</th>\n",
       "      <th>baseline_create_date</th>\n",
       "      <th>cust_payment_terms</th>\n",
       "      <th>invoice_id</th>\n",
       "      <th>isOpen</th>\n",
       "      <th>delay</th>\n",
       "    </tr>\n",
       "  </thead>\n",
       "  <tbody>\n",
       "    <tr>\n",
       "      <th>380</th>\n",
       "      <td>U001</td>\n",
       "      <td>0200755701</td>\n",
       "      <td>ASSOCI llc</td>\n",
       "      <td>2019-01-15</td>\n",
       "      <td>2019</td>\n",
       "      <td>2018-12-30</td>\n",
       "      <td>2018-12-29</td>\n",
       "      <td>2019-01-14</td>\n",
       "      <td>USD</td>\n",
       "      <td>RV</td>\n",
       "      <td>18655.77</td>\n",
       "      <td>2018-12-30</td>\n",
       "      <td>NAA8</td>\n",
       "      <td>1928536837.0</td>\n",
       "      <td>0</td>\n",
       "      <td>1 days</td>\n",
       "    </tr>\n",
       "    <tr>\n",
       "      <th>8784</th>\n",
       "      <td>U001</td>\n",
       "      <td>0200769623</td>\n",
       "      <td>WAL-MAR llc</td>\n",
       "      <td>2019-01-15</td>\n",
       "      <td>2019</td>\n",
       "      <td>2018-12-30</td>\n",
       "      <td>2018-12-29</td>\n",
       "      <td>2019-01-14</td>\n",
       "      <td>USD</td>\n",
       "      <td>RV</td>\n",
       "      <td>20467.17</td>\n",
       "      <td>2018-12-30</td>\n",
       "      <td>NAH4</td>\n",
       "      <td>1928541056.0</td>\n",
       "      <td>0</td>\n",
       "      <td>1 days</td>\n",
       "    </tr>\n",
       "    <tr>\n",
       "      <th>9879</th>\n",
       "      <td>U001</td>\n",
       "      <td>0200769623</td>\n",
       "      <td>WAL-MAR us</td>\n",
       "      <td>2019-01-15</td>\n",
       "      <td>2019</td>\n",
       "      <td>2018-12-30</td>\n",
       "      <td>2018-12-29</td>\n",
       "      <td>2019-01-14</td>\n",
       "      <td>USD</td>\n",
       "      <td>RV</td>\n",
       "      <td>4439.84</td>\n",
       "      <td>2018-12-30</td>\n",
       "      <td>NAH4</td>\n",
       "      <td>1928540938.0</td>\n",
       "      <td>0</td>\n",
       "      <td>1 days</td>\n",
       "    </tr>\n",
       "    <tr>\n",
       "      <th>15448</th>\n",
       "      <td>U001</td>\n",
       "      <td>0200705372</td>\n",
       "      <td>FR</td>\n",
       "      <td>2019-01-14</td>\n",
       "      <td>2019</td>\n",
       "      <td>2018-12-30</td>\n",
       "      <td>2018-12-29</td>\n",
       "      <td>2019-01-14</td>\n",
       "      <td>USD</td>\n",
       "      <td>RV</td>\n",
       "      <td>66586.13</td>\n",
       "      <td>2018-12-30</td>\n",
       "      <td>NAA8</td>\n",
       "      <td>1928537402.0</td>\n",
       "      <td>0</td>\n",
       "      <td>0 days</td>\n",
       "    </tr>\n",
       "    <tr>\n",
       "      <th>14959</th>\n",
       "      <td>U001</td>\n",
       "      <td>0200769623</td>\n",
       "      <td>WAL-MAR corporation</td>\n",
       "      <td>2019-01-10</td>\n",
       "      <td>2019</td>\n",
       "      <td>2018-12-30</td>\n",
       "      <td>2018-12-29</td>\n",
       "      <td>2019-01-14</td>\n",
       "      <td>USD</td>\n",
       "      <td>RV</td>\n",
       "      <td>8730.88</td>\n",
       "      <td>2018-12-30</td>\n",
       "      <td>NAH4</td>\n",
       "      <td>1928538220.0</td>\n",
       "      <td>0</td>\n",
       "      <td>-4 days</td>\n",
       "    </tr>\n",
       "  </tbody>\n",
       "</table>\n",
       "</div>"
      ],
      "text/plain": [
       "      business_code cust_number        name_customer clear_date buisness_year  \\\n",
       "380            U001  0200755701           ASSOCI llc 2019-01-15          2019   \n",
       "8784           U001  0200769623          WAL-MAR llc 2019-01-15          2019   \n",
       "9879           U001  0200769623           WAL-MAR us 2019-01-15          2019   \n",
       "15448          U001  0200705372                  FR  2019-01-14          2019   \n",
       "14959          U001  0200769623  WAL-MAR corporation 2019-01-10          2019   \n",
       "\n",
       "      posting_date document_create_date due_in_date invoice_currency  \\\n",
       "380     2018-12-30           2018-12-29  2019-01-14              USD   \n",
       "8784    2018-12-30           2018-12-29  2019-01-14              USD   \n",
       "9879    2018-12-30           2018-12-29  2019-01-14              USD   \n",
       "15448   2018-12-30           2018-12-29  2019-01-14              USD   \n",
       "14959   2018-12-30           2018-12-29  2019-01-14              USD   \n",
       "\n",
       "      document type  total_open_amount baseline_create_date  \\\n",
       "380              RV           18655.77           2018-12-30   \n",
       "8784             RV           20467.17           2018-12-30   \n",
       "9879             RV            4439.84           2018-12-30   \n",
       "15448            RV           66586.13           2018-12-30   \n",
       "14959            RV            8730.88           2018-12-30   \n",
       "\n",
       "      cust_payment_terms    invoice_id  isOpen   delay  \n",
       "380                 NAA8  1928536837.0       0  1 days  \n",
       "8784                NAH4  1928541056.0       0  1 days  \n",
       "9879                NAH4  1928540938.0       0  1 days  \n",
       "15448               NAA8  1928537402.0       0  0 days  \n",
       "14959               NAH4  1928538220.0       0 -4 days  "
      ]
     },
     "execution_count": 29,
     "metadata": {},
     "output_type": "execute_result"
    }
   ],
   "source": [
    "train_df.head()"
   ]
  },
  {
   "cell_type": "code",
   "execution_count": 30,
   "metadata": {},
   "outputs": [
    {
     "data": {
      "text/plain": [
       "business_code               6\n",
       "cust_number              1339\n",
       "name_customer            3912\n",
       "clear_date                400\n",
       "buisness_year               2\n",
       "posting_date              423\n",
       "document_create_date      426\n",
       "due_in_date               492\n",
       "invoice_currency            2\n",
       "document type               2\n",
       "total_open_amount       35508\n",
       "baseline_create_date      428\n",
       "cust_payment_terms         67\n",
       "invoice_id              39136\n",
       "isOpen                      1\n",
       "delay                     192\n",
       "dtype: int64"
      ]
     },
     "execution_count": 30,
     "metadata": {},
     "output_type": "execute_result"
    }
   ],
   "source": [
    "train_df.nunique()"
   ]
  },
  {
   "cell_type": "code",
   "execution_count": 31,
   "metadata": {},
   "outputs": [],
   "source": [
    "train_df.drop(columns = ['isOpen'],axis=1,inplace=True)\n",
    "test_df.drop(columns = ['isOpen'],axis=1,inplace=True)"
   ]
  },
  {
   "cell_type": "code",
   "execution_count": 32,
   "metadata": {},
   "outputs": [],
   "source": [
    "train_df.drop(columns = ['invoice_id'],axis=1,inplace=True)\n",
    "test_df.drop(columns = ['invoice_id'],axis=1,inplace=True)"
   ]
  },
  {
   "cell_type": "code",
   "execution_count": 33,
   "metadata": {},
   "outputs": [
    {
     "data": {
      "text/plain": [
       "((40000, 14), (10000, 13))"
      ]
     },
     "execution_count": 33,
     "metadata": {},
     "output_type": "execute_result"
    }
   ],
   "source": [
    "train_df.shape,test_df.shape"
   ]
  },
  {
   "cell_type": "code",
   "execution_count": 34,
   "metadata": {},
   "outputs": [],
   "source": [
    "duplicate_value = train_df.duplicated()"
   ]
  },
  {
   "cell_type": "code",
   "execution_count": 35,
   "metadata": {},
   "outputs": [
    {
     "data": {
      "text/plain": [
       "(871, 14)"
      ]
     },
     "execution_count": 35,
     "metadata": {},
     "output_type": "execute_result"
    }
   ],
   "source": [
    "train_df[duplicate_value].shape"
   ]
  },
  {
   "cell_type": "code",
   "execution_count": 36,
   "metadata": {},
   "outputs": [],
   "source": [
    "train_df.drop_duplicates(keep='first',inplace=True)"
   ]
  },
  {
   "cell_type": "code",
   "execution_count": 37,
   "metadata": {},
   "outputs": [
    {
     "data": {
      "text/plain": [
       "(39129, 14)"
      ]
     },
     "execution_count": 37,
     "metadata": {},
     "output_type": "execute_result"
    }
   ],
   "source": [
    "train_df.shape"
   ]
  },
  {
   "cell_type": "code",
   "execution_count": 38,
   "metadata": {},
   "outputs": [],
   "source": [
    "#changing the datatype\n",
    "train_df['delay'] = train_df['delay'].dt.days"
   ]
  },
  {
   "cell_type": "code",
   "execution_count": 39,
   "metadata": {},
   "outputs": [
    {
     "data": {
      "text/plain": [
       "380      1\n",
       "8784     1\n",
       "9879     1\n",
       "15448    0\n",
       "14959   -4\n",
       "        ..\n",
       "13758   -3\n",
       "13125    7\n",
       "41892    3\n",
       "37929    0\n",
       "35156   -1\n",
       "Name: delay, Length: 39129, dtype: int64"
      ]
     },
     "execution_count": 39,
     "metadata": {},
     "output_type": "execute_result"
    }
   ],
   "source": [
    "train_df['delay']"
   ]
  },
  {
   "cell_type": "code",
   "execution_count": 40,
   "metadata": {},
   "outputs": [],
   "source": [
    "train_df['business_code']=np.where(train_df['business_code'].isin([ 'U005', 'U007']),\n",
    "                                   'Other Codes',train_df['business_code'])\n",
    "test_df['business_code']=np.where(test_df['business_code'].isin([ 'U005', 'U007']),\n",
    "                                   'Other Codes',test_df['business_code'])"
   ]
  },
  {
   "cell_type": "markdown",
   "metadata": {},
   "source": [
    "# Feature Engineering"
   ]
  },
  {
   "cell_type": "code",
   "execution_count": 41,
   "metadata": {},
   "outputs": [],
   "source": [
    "business_code_encoder = LabelEncoder()\n",
    "business_code_encoder1 = LabelEncoder()\n",
    "business_code_encoder.fit(train_df['business_code'])\n",
    "business_code_encoder1.fit(test_df['business_code'])\n",
    "train_df['business_code'] = business_code_encoder.transform(train_df['business_code'])\n",
    "test_df['business_code'] = business_code_encoder1.transform(test_df['business_code'])"
   ]
  },
  {
   "cell_type": "code",
   "execution_count": 42,
   "metadata": {},
   "outputs": [
    {
     "data": {
      "text/plain": [
       "NAA8    15506\n",
       "NAH4    10524\n",
       "CA10     2968\n",
       "NAC6     1354\n",
       "NAM4     1033\n",
       "NAAX      950\n",
       "NAD1      781\n",
       "NAG2      744\n",
       "NAU5      712\n",
       "NA32      623\n",
       "NAGD      590\n",
       "NAX2      575\n",
       "NAM2      462\n",
       "NA10      348\n",
       "NAD5      259\n",
       "NAVF      227\n",
       "NAVE      212\n",
       "NAM1      207\n",
       "NAAW      164\n",
       "NAWU      116\n",
       "NAWN      103\n",
       "NAVR       83\n",
       "NAVQ       77\n",
       "NAWP       60\n",
       "NAUZ       46\n",
       "NA3B       42\n",
       "NAVM       38\n",
       "CA30       37\n",
       "NA38       36\n",
       "NACB       29\n",
       "NABG       28\n",
       "NAB1       24\n",
       "NAD4       18\n",
       "NA84       14\n",
       "NAVL       13\n",
       "C106       13\n",
       "NAVD       11\n",
       "NAUP       10\n",
       "NA9X       10\n",
       "NA3F        9\n",
       "NA31        6\n",
       "NA8Q        6\n",
       "BR56        5\n",
       "NA25        5\n",
       "NATL        4\n",
       "NATJ        4\n",
       "BR12        4\n",
       "NANC        4\n",
       "B052        3\n",
       "90M7        3\n",
       "NATX        3\n",
       "NAVC        3\n",
       "NAUW        3\n",
       "NATW        3\n",
       "NAUI        2\n",
       "NATV        2\n",
       "CAX2        2\n",
       "NATH        2\n",
       "CAB1        1\n",
       "NAV2        1\n",
       "B112        1\n",
       "NAUX        1\n",
       "NAWM        1\n",
       "NAM3        1\n",
       "NATZ        1\n",
       "NACE        1\n",
       "NAWK        1\n",
       "Name: cust_payment_terms, dtype: int64"
      ]
     },
     "execution_count": 42,
     "metadata": {},
     "output_type": "execute_result"
    }
   ],
   "source": [
    "train_df.cust_payment_terms.value_counts()"
   ]
  },
  {
   "cell_type": "code",
   "execution_count": 43,
   "metadata": {},
   "outputs": [],
   "source": [
    "ref = dict(train_df['cust_payment_terms'].value_counts())\n",
    "ref1 = dict(train_df['cust_payment_terms'].value_counts())\n",
    "train_df['cust_payment_terms'] = train_df['cust_payment_terms'].map(ref)\n",
    "test_df['cust_payment_terms'] = test_df['cust_payment_terms'].map(ref)"
   ]
  },
  {
   "cell_type": "code",
   "execution_count": 44,
   "metadata": {},
   "outputs": [],
   "source": [
    "cust_number_encoder = LabelEncoder()\n",
    "cust_number_encoder.fit(train_df['cust_number'])\n",
    "train_df['cust_number'] = cust_number_encoder.transform(train_df['cust_number'])\n",
    "\n",
    "cust_number_encoder1 = LabelEncoder()\n",
    "cust_number_encoder1.fit(test_df['cust_number'])\n",
    "test_df['cust_number'] = cust_number_encoder1.transform(test_df['cust_number'])"
   ]
  },
  {
   "cell_type": "code",
   "execution_count": 45,
   "metadata": {},
   "outputs": [],
   "source": [
    "ref = dict(train_df['cust_number'].value_counts())\n",
    "train_df['cust_number'] = train_df['cust_number'].map(ref)\n",
    "ref1 = dict(test_df['cust_number'].value_counts())\n",
    "test_df['cust_number'] = test_df['cust_number'].map(ref)"
   ]
  },
  {
   "cell_type": "code",
   "execution_count": 46,
   "metadata": {},
   "outputs": [],
   "source": [
    "year_encoder = LabelEncoder()\n",
    "year_encoder.fit(train_df['buisness_year'])\n",
    "train_df['buisness_year'] = year_encoder.transform(train_df['buisness_year'])\n",
    "year_encoder1 = LabelEncoder()\n",
    "year_encoder1.fit(test_df['buisness_year'])\n",
    "test_df['buisness_year'] = year_encoder1.transform(test_df['buisness_year'])"
   ]
  },
  {
   "cell_type": "code",
   "execution_count": 47,
   "metadata": {},
   "outputs": [],
   "source": [
    "type_encoder = LabelEncoder()\n",
    "type_encoder.fit(train_df['document type'])\n",
    "train_df['document type'] = type_encoder.transform(train_df['document type'])\n",
    "type_encoder1 = LabelEncoder()\n",
    "type_encoder1.fit(test_df['document type'])\n",
    "test_df['document type'] = type_encoder1.transform(test_df['document type'])"
   ]
  },
  {
   "cell_type": "code",
   "execution_count": 48,
   "metadata": {},
   "outputs": [
    {
     "name": "stdout",
     "output_type": "stream",
     "text": [
      "<class 'pandas.core.frame.DataFrame'>\n",
      "Int64Index: 39129 entries, 380 to 35156\n",
      "Data columns (total 14 columns):\n",
      " #   Column                Non-Null Count  Dtype         \n",
      "---  ------                --------------  -----         \n",
      " 0   business_code         39129 non-null  int32         \n",
      " 1   cust_number           39129 non-null  int64         \n",
      " 2   name_customer         39129 non-null  object        \n",
      " 3   clear_date            39129 non-null  datetime64[ns]\n",
      " 4   buisness_year         39129 non-null  int32         \n",
      " 5   posting_date          39129 non-null  datetime64[ns]\n",
      " 6   document_create_date  39129 non-null  datetime64[ns]\n",
      " 7   due_in_date           39129 non-null  datetime64[ns]\n",
      " 8   invoice_currency      39129 non-null  object        \n",
      " 9   document type         39129 non-null  int32         \n",
      " 10  total_open_amount     39129 non-null  float64       \n",
      " 11  baseline_create_date  39129 non-null  datetime64[ns]\n",
      " 12  cust_payment_terms    39129 non-null  int64         \n",
      " 13  delay                 39129 non-null  int64         \n",
      "dtypes: datetime64[ns](5), float64(1), int32(3), int64(3), object(2)\n",
      "memory usage: 4.0+ MB\n"
     ]
    }
   ],
   "source": [
    "train_df.info()"
   ]
  },
  {
   "cell_type": "code",
   "execution_count": 49,
   "metadata": {},
   "outputs": [
    {
     "name": "stdout",
     "output_type": "stream",
     "text": [
      "<class 'pandas.core.frame.DataFrame'>\n",
      "Int64Index: 10000 entries, 4 to 49994\n",
      "Data columns (total 13 columns):\n",
      " #   Column                Non-Null Count  Dtype         \n",
      "---  ------                --------------  -----         \n",
      " 0   business_code         10000 non-null  int32         \n",
      " 1   cust_number           10000 non-null  int64         \n",
      " 2   name_customer         10000 non-null  object        \n",
      " 3   clear_date            0 non-null      datetime64[ns]\n",
      " 4   buisness_year         10000 non-null  int32         \n",
      " 5   posting_date          10000 non-null  datetime64[ns]\n",
      " 6   document_create_date  10000 non-null  datetime64[ns]\n",
      " 7   due_in_date           10000 non-null  datetime64[ns]\n",
      " 8   invoice_currency      10000 non-null  object        \n",
      " 9   document type         10000 non-null  int32         \n",
      " 10  total_open_amount     10000 non-null  float64       \n",
      " 11  baseline_create_date  10000 non-null  datetime64[ns]\n",
      " 12  cust_payment_terms    9992 non-null   float64       \n",
      "dtypes: datetime64[ns](5), float64(2), int32(3), int64(1), object(2)\n",
      "memory usage: 976.6+ KB\n"
     ]
    }
   ],
   "source": [
    "test_df.info()"
   ]
  },
  {
   "cell_type": "code",
   "execution_count": 50,
   "metadata": {},
   "outputs": [],
   "source": [
    "c = CurrencyRates()\n",
    "train_df.loc[(train_df.invoice_currency != 'USD'), ['total_open_amount']] *= c.get_rate('CAD', 'USD')\n",
    "train_df.replace(to_replace =\"CAD\", value =\"USD\",inplace=True)\n",
    "test_df.loc[(test_df.invoice_currency != 'USD'), ['total_open_amount']] *= c.get_rate('CAD', 'USD')\n",
    "test_df.replace(to_replace =\"CAD\", value =\"USD\",inplace=True)"
   ]
  },
  {
   "cell_type": "code",
   "execution_count": 51,
   "metadata": {},
   "outputs": [
    {
     "data": {
      "text/plain": [
       "business_code               5\n",
       "cust_number               136\n",
       "name_customer            3912\n",
       "clear_date                400\n",
       "buisness_year               2\n",
       "posting_date              423\n",
       "document_create_date      426\n",
       "due_in_date               492\n",
       "invoice_currency            1\n",
       "document type               2\n",
       "total_open_amount       35535\n",
       "baseline_create_date      428\n",
       "cust_payment_terms         44\n",
       "delay                     192\n",
       "dtype: int64"
      ]
     },
     "execution_count": 51,
     "metadata": {},
     "output_type": "execute_result"
    }
   ],
   "source": [
    "train_df.nunique()"
   ]
  },
  {
   "cell_type": "code",
   "execution_count": 52,
   "metadata": {},
   "outputs": [],
   "source": [
    "train_df=train_df.drop(columns='invoice_currency',axis=1)\n",
    "test_df=test_df.drop(columns='invoice_currency',axis=1)"
   ]
  },
  {
   "cell_type": "code",
   "execution_count": 53,
   "metadata": {},
   "outputs": [
    {
     "data": {
      "text/html": [
       "<div>\n",
       "<style scoped>\n",
       "    .dataframe tbody tr th:only-of-type {\n",
       "        vertical-align: middle;\n",
       "    }\n",
       "\n",
       "    .dataframe tbody tr th {\n",
       "        vertical-align: top;\n",
       "    }\n",
       "\n",
       "    .dataframe thead th {\n",
       "        text-align: right;\n",
       "    }\n",
       "</style>\n",
       "<table border=\"1\" class=\"dataframe\">\n",
       "  <thead>\n",
       "    <tr style=\"text-align: right;\">\n",
       "      <th></th>\n",
       "      <th>business_code</th>\n",
       "      <th>cust_number</th>\n",
       "      <th>name_customer</th>\n",
       "      <th>clear_date</th>\n",
       "      <th>buisness_year</th>\n",
       "      <th>posting_date</th>\n",
       "      <th>document_create_date</th>\n",
       "      <th>due_in_date</th>\n",
       "      <th>document type</th>\n",
       "      <th>total_open_amount</th>\n",
       "      <th>baseline_create_date</th>\n",
       "      <th>cust_payment_terms</th>\n",
       "      <th>delay</th>\n",
       "    </tr>\n",
       "  </thead>\n",
       "  <tbody>\n",
       "    <tr>\n",
       "      <th>380</th>\n",
       "      <td>2</td>\n",
       "      <td>16</td>\n",
       "      <td>ASSOCI llc</td>\n",
       "      <td>2019-01-15</td>\n",
       "      <td>0</td>\n",
       "      <td>2018-12-30</td>\n",
       "      <td>2018-12-29</td>\n",
       "      <td>2019-01-14</td>\n",
       "      <td>0</td>\n",
       "      <td>18655.77</td>\n",
       "      <td>2018-12-30</td>\n",
       "      <td>15506</td>\n",
       "      <td>1</td>\n",
       "    </tr>\n",
       "    <tr>\n",
       "      <th>8784</th>\n",
       "      <td>2</td>\n",
       "      <td>8869</td>\n",
       "      <td>WAL-MAR llc</td>\n",
       "      <td>2019-01-15</td>\n",
       "      <td>0</td>\n",
       "      <td>2018-12-30</td>\n",
       "      <td>2018-12-29</td>\n",
       "      <td>2019-01-14</td>\n",
       "      <td>0</td>\n",
       "      <td>20467.17</td>\n",
       "      <td>2018-12-30</td>\n",
       "      <td>10524</td>\n",
       "      <td>1</td>\n",
       "    </tr>\n",
       "    <tr>\n",
       "      <th>9879</th>\n",
       "      <td>2</td>\n",
       "      <td>8869</td>\n",
       "      <td>WAL-MAR us</td>\n",
       "      <td>2019-01-15</td>\n",
       "      <td>0</td>\n",
       "      <td>2018-12-30</td>\n",
       "      <td>2018-12-29</td>\n",
       "      <td>2019-01-14</td>\n",
       "      <td>0</td>\n",
       "      <td>4439.84</td>\n",
       "      <td>2018-12-30</td>\n",
       "      <td>10524</td>\n",
       "      <td>1</td>\n",
       "    </tr>\n",
       "    <tr>\n",
       "      <th>15448</th>\n",
       "      <td>2</td>\n",
       "      <td>117</td>\n",
       "      <td>FR</td>\n",
       "      <td>2019-01-14</td>\n",
       "      <td>0</td>\n",
       "      <td>2018-12-30</td>\n",
       "      <td>2018-12-29</td>\n",
       "      <td>2019-01-14</td>\n",
       "      <td>0</td>\n",
       "      <td>66586.13</td>\n",
       "      <td>2018-12-30</td>\n",
       "      <td>15506</td>\n",
       "      <td>0</td>\n",
       "    </tr>\n",
       "    <tr>\n",
       "      <th>14959</th>\n",
       "      <td>2</td>\n",
       "      <td>8869</td>\n",
       "      <td>WAL-MAR corporation</td>\n",
       "      <td>2019-01-10</td>\n",
       "      <td>0</td>\n",
       "      <td>2018-12-30</td>\n",
       "      <td>2018-12-29</td>\n",
       "      <td>2019-01-14</td>\n",
       "      <td>0</td>\n",
       "      <td>8730.88</td>\n",
       "      <td>2018-12-30</td>\n",
       "      <td>10524</td>\n",
       "      <td>-4</td>\n",
       "    </tr>\n",
       "    <tr>\n",
       "      <th>...</th>\n",
       "      <td>...</td>\n",
       "      <td>...</td>\n",
       "      <td>...</td>\n",
       "      <td>...</td>\n",
       "      <td>...</td>\n",
       "      <td>...</td>\n",
       "      <td>...</td>\n",
       "      <td>...</td>\n",
       "      <td>...</td>\n",
       "      <td>...</td>\n",
       "      <td>...</td>\n",
       "      <td>...</td>\n",
       "      <td>...</td>\n",
       "    </tr>\n",
       "    <tr>\n",
       "      <th>13758</th>\n",
       "      <td>2</td>\n",
       "      <td>8869</td>\n",
       "      <td>WAL-MAR corporation</td>\n",
       "      <td>2020-03-09</td>\n",
       "      <td>1</td>\n",
       "      <td>2020-02-26</td>\n",
       "      <td>2020-02-24</td>\n",
       "      <td>2020-03-12</td>\n",
       "      <td>0</td>\n",
       "      <td>16697.15</td>\n",
       "      <td>2020-02-26</td>\n",
       "      <td>10524</td>\n",
       "      <td>-3</td>\n",
       "    </tr>\n",
       "    <tr>\n",
       "      <th>13125</th>\n",
       "      <td>2</td>\n",
       "      <td>14</td>\n",
       "      <td>ESSEX  us</td>\n",
       "      <td>2020-03-19</td>\n",
       "      <td>1</td>\n",
       "      <td>2020-02-26</td>\n",
       "      <td>2020-02-22</td>\n",
       "      <td>2020-03-12</td>\n",
       "      <td>0</td>\n",
       "      <td>36435.85</td>\n",
       "      <td>2020-02-26</td>\n",
       "      <td>15506</td>\n",
       "      <td>7</td>\n",
       "    </tr>\n",
       "    <tr>\n",
       "      <th>41892</th>\n",
       "      <td>2</td>\n",
       "      <td>56</td>\n",
       "      <td>BARGAIN  corp</td>\n",
       "      <td>2020-03-16</td>\n",
       "      <td>1</td>\n",
       "      <td>2020-02-27</td>\n",
       "      <td>2020-02-27</td>\n",
       "      <td>2020-03-13</td>\n",
       "      <td>0</td>\n",
       "      <td>3599.97</td>\n",
       "      <td>2020-02-27</td>\n",
       "      <td>15506</td>\n",
       "      <td>3</td>\n",
       "    </tr>\n",
       "    <tr>\n",
       "      <th>37929</th>\n",
       "      <td>2</td>\n",
       "      <td>1053</td>\n",
       "      <td>SA associates</td>\n",
       "      <td>2020-03-13</td>\n",
       "      <td>1</td>\n",
       "      <td>2020-02-27</td>\n",
       "      <td>2020-02-26</td>\n",
       "      <td>2020-03-13</td>\n",
       "      <td>0</td>\n",
       "      <td>3396.48</td>\n",
       "      <td>2020-02-27</td>\n",
       "      <td>10524</td>\n",
       "      <td>0</td>\n",
       "    </tr>\n",
       "    <tr>\n",
       "      <th>35156</th>\n",
       "      <td>2</td>\n",
       "      <td>890</td>\n",
       "      <td>COST associates</td>\n",
       "      <td>2020-03-12</td>\n",
       "      <td>1</td>\n",
       "      <td>2020-02-27</td>\n",
       "      <td>2020-02-26</td>\n",
       "      <td>2020-03-13</td>\n",
       "      <td>0</td>\n",
       "      <td>5218.12</td>\n",
       "      <td>2020-02-27</td>\n",
       "      <td>950</td>\n",
       "      <td>-1</td>\n",
       "    </tr>\n",
       "  </tbody>\n",
       "</table>\n",
       "<p>39129 rows × 13 columns</p>\n",
       "</div>"
      ],
      "text/plain": [
       "       business_code  cust_number        name_customer clear_date  \\\n",
       "380                2           16           ASSOCI llc 2019-01-15   \n",
       "8784               2         8869          WAL-MAR llc 2019-01-15   \n",
       "9879               2         8869           WAL-MAR us 2019-01-15   \n",
       "15448              2          117                  FR  2019-01-14   \n",
       "14959              2         8869  WAL-MAR corporation 2019-01-10   \n",
       "...              ...          ...                  ...        ...   \n",
       "13758              2         8869  WAL-MAR corporation 2020-03-09   \n",
       "13125              2           14            ESSEX  us 2020-03-19   \n",
       "41892              2           56        BARGAIN  corp 2020-03-16   \n",
       "37929              2         1053        SA associates 2020-03-13   \n",
       "35156              2          890      COST associates 2020-03-12   \n",
       "\n",
       "       buisness_year posting_date document_create_date due_in_date  \\\n",
       "380                0   2018-12-30           2018-12-29  2019-01-14   \n",
       "8784               0   2018-12-30           2018-12-29  2019-01-14   \n",
       "9879               0   2018-12-30           2018-12-29  2019-01-14   \n",
       "15448              0   2018-12-30           2018-12-29  2019-01-14   \n",
       "14959              0   2018-12-30           2018-12-29  2019-01-14   \n",
       "...              ...          ...                  ...         ...   \n",
       "13758              1   2020-02-26           2020-02-24  2020-03-12   \n",
       "13125              1   2020-02-26           2020-02-22  2020-03-12   \n",
       "41892              1   2020-02-27           2020-02-27  2020-03-13   \n",
       "37929              1   2020-02-27           2020-02-26  2020-03-13   \n",
       "35156              1   2020-02-27           2020-02-26  2020-03-13   \n",
       "\n",
       "       document type  total_open_amount baseline_create_date  \\\n",
       "380                0           18655.77           2018-12-30   \n",
       "8784               0           20467.17           2018-12-30   \n",
       "9879               0            4439.84           2018-12-30   \n",
       "15448              0           66586.13           2018-12-30   \n",
       "14959              0            8730.88           2018-12-30   \n",
       "...              ...                ...                  ...   \n",
       "13758              0           16697.15           2020-02-26   \n",
       "13125              0           36435.85           2020-02-26   \n",
       "41892              0            3599.97           2020-02-27   \n",
       "37929              0            3396.48           2020-02-27   \n",
       "35156              0            5218.12           2020-02-27   \n",
       "\n",
       "       cust_payment_terms  delay  \n",
       "380                 15506      1  \n",
       "8784                10524      1  \n",
       "9879                10524      1  \n",
       "15448               15506      0  \n",
       "14959               10524     -4  \n",
       "...                   ...    ...  \n",
       "13758               10524     -3  \n",
       "13125               15506      7  \n",
       "41892               15506      3  \n",
       "37929               10524      0  \n",
       "35156                 950     -1  \n",
       "\n",
       "[39129 rows x 13 columns]"
      ]
     },
     "execution_count": 53,
     "metadata": {},
     "output_type": "execute_result"
    }
   ],
   "source": [
    "train_df"
   ]
  },
  {
   "cell_type": "code",
   "execution_count": 54,
   "metadata": {},
   "outputs": [],
   "source": [
    "train_df['document_create_date_day'] = train_df['document_create_date'].dt.day\n",
    "train_df['document_create_date_month'] = train_df['document_create_date'].dt.month\n",
    "train_df['document_create_date_year'] = train_df['document_create_date'].dt.year\n",
    "train_df['document_create_date_quarter']= train_df['document_create_date'].dt.quarter\n",
    "\n",
    "test_df['document_create_date_day'] = test_df['document_create_date'].dt.day\n",
    "test_df['document_create_date_month'] = test_df['document_create_date'].dt.month\n",
    "test_df['document_create_date_year'] = test_df['document_create_date'].dt.year\n",
    "test_df['document_create_date_quarter']= test_df['document_create_date'].dt.quarter"
   ]
  },
  {
   "cell_type": "code",
   "execution_count": 55,
   "metadata": {},
   "outputs": [
    {
     "data": {
      "text/html": [
       "<div>\n",
       "<style scoped>\n",
       "    .dataframe tbody tr th:only-of-type {\n",
       "        vertical-align: middle;\n",
       "    }\n",
       "\n",
       "    .dataframe tbody tr th {\n",
       "        vertical-align: top;\n",
       "    }\n",
       "\n",
       "    .dataframe thead th {\n",
       "        text-align: right;\n",
       "    }\n",
       "</style>\n",
       "<table border=\"1\" class=\"dataframe\">\n",
       "  <thead>\n",
       "    <tr style=\"text-align: right;\">\n",
       "      <th></th>\n",
       "      <th>business_code</th>\n",
       "      <th>cust_number</th>\n",
       "      <th>buisness_year</th>\n",
       "      <th>document type</th>\n",
       "      <th>total_open_amount</th>\n",
       "      <th>cust_payment_terms</th>\n",
       "      <th>delay</th>\n",
       "      <th>document_create_date_day</th>\n",
       "      <th>document_create_date_month</th>\n",
       "      <th>document_create_date_year</th>\n",
       "      <th>document_create_date_quarter</th>\n",
       "    </tr>\n",
       "  </thead>\n",
       "  <tbody>\n",
       "    <tr>\n",
       "      <th>business_code</th>\n",
       "      <td>1.000000</td>\n",
       "      <td>0.122192</td>\n",
       "      <td>0.005754</td>\n",
       "      <td>-0.031919</td>\n",
       "      <td>-0.124932</td>\n",
       "      <td>0.203191</td>\n",
       "      <td>-0.085712</td>\n",
       "      <td>-0.003145</td>\n",
       "      <td>-0.012531</td>\n",
       "      <td>0.003622</td>\n",
       "      <td>-0.011532</td>\n",
       "    </tr>\n",
       "    <tr>\n",
       "      <th>cust_number</th>\n",
       "      <td>0.122192</td>\n",
       "      <td>1.000000</td>\n",
       "      <td>0.008760</td>\n",
       "      <td>-0.005895</td>\n",
       "      <td>-0.138178</td>\n",
       "      <td>0.089729</td>\n",
       "      <td>-0.156070</td>\n",
       "      <td>0.011608</td>\n",
       "      <td>0.029907</td>\n",
       "      <td>0.003059</td>\n",
       "      <td>0.024496</td>\n",
       "    </tr>\n",
       "    <tr>\n",
       "      <th>buisness_year</th>\n",
       "      <td>0.005754</td>\n",
       "      <td>0.008760</td>\n",
       "      <td>1.000000</td>\n",
       "      <td>-0.003887</td>\n",
       "      <td>-0.005302</td>\n",
       "      <td>-0.008787</td>\n",
       "      <td>-0.017511</td>\n",
       "      <td>0.002093</td>\n",
       "      <td>-0.408394</td>\n",
       "      <td>0.945075</td>\n",
       "      <td>-0.380736</td>\n",
       "    </tr>\n",
       "    <tr>\n",
       "      <th>document type</th>\n",
       "      <td>-0.031919</td>\n",
       "      <td>-0.005895</td>\n",
       "      <td>-0.003887</td>\n",
       "      <td>1.000000</td>\n",
       "      <td>-0.002538</td>\n",
       "      <td>-0.010543</td>\n",
       "      <td>0.190442</td>\n",
       "      <td>0.015484</td>\n",
       "      <td>-0.007979</td>\n",
       "      <td>-0.003483</td>\n",
       "      <td>-0.011482</td>\n",
       "    </tr>\n",
       "    <tr>\n",
       "      <th>total_open_amount</th>\n",
       "      <td>-0.124932</td>\n",
       "      <td>-0.138178</td>\n",
       "      <td>-0.005302</td>\n",
       "      <td>-0.002538</td>\n",
       "      <td>1.000000</td>\n",
       "      <td>0.073161</td>\n",
       "      <td>-0.001663</td>\n",
       "      <td>0.020039</td>\n",
       "      <td>0.027249</td>\n",
       "      <td>-0.003258</td>\n",
       "      <td>0.028168</td>\n",
       "    </tr>\n",
       "    <tr>\n",
       "      <th>cust_payment_terms</th>\n",
       "      <td>0.203191</td>\n",
       "      <td>0.089729</td>\n",
       "      <td>-0.008787</td>\n",
       "      <td>-0.010543</td>\n",
       "      <td>0.073161</td>\n",
       "      <td>1.000000</td>\n",
       "      <td>-0.073072</td>\n",
       "      <td>0.005026</td>\n",
       "      <td>0.012052</td>\n",
       "      <td>-0.012472</td>\n",
       "      <td>0.014084</td>\n",
       "    </tr>\n",
       "    <tr>\n",
       "      <th>delay</th>\n",
       "      <td>-0.085712</td>\n",
       "      <td>-0.156070</td>\n",
       "      <td>-0.017511</td>\n",
       "      <td>0.190442</td>\n",
       "      <td>-0.001663</td>\n",
       "      <td>-0.073072</td>\n",
       "      <td>1.000000</td>\n",
       "      <td>-0.006862</td>\n",
       "      <td>-0.023345</td>\n",
       "      <td>-0.019737</td>\n",
       "      <td>-0.020246</td>\n",
       "    </tr>\n",
       "    <tr>\n",
       "      <th>document_create_date_day</th>\n",
       "      <td>-0.003145</td>\n",
       "      <td>0.011608</td>\n",
       "      <td>0.002093</td>\n",
       "      <td>0.015484</td>\n",
       "      <td>0.020039</td>\n",
       "      <td>0.005026</td>\n",
       "      <td>-0.006862</td>\n",
       "      <td>1.000000</td>\n",
       "      <td>-0.003974</td>\n",
       "      <td>-0.058194</td>\n",
       "      <td>0.001304</td>\n",
       "    </tr>\n",
       "    <tr>\n",
       "      <th>document_create_date_month</th>\n",
       "      <td>-0.012531</td>\n",
       "      <td>0.029907</td>\n",
       "      <td>-0.408394</td>\n",
       "      <td>-0.007979</td>\n",
       "      <td>0.027249</td>\n",
       "      <td>0.012052</td>\n",
       "      <td>-0.023345</td>\n",
       "      <td>-0.003974</td>\n",
       "      <td>1.000000</td>\n",
       "      <td>-0.472078</td>\n",
       "      <td>0.973643</td>\n",
       "    </tr>\n",
       "    <tr>\n",
       "      <th>document_create_date_year</th>\n",
       "      <td>0.003622</td>\n",
       "      <td>0.003059</td>\n",
       "      <td>0.945075</td>\n",
       "      <td>-0.003483</td>\n",
       "      <td>-0.003258</td>\n",
       "      <td>-0.012472</td>\n",
       "      <td>-0.019737</td>\n",
       "      <td>-0.058194</td>\n",
       "      <td>-0.472078</td>\n",
       "      <td>1.000000</td>\n",
       "      <td>-0.434876</td>\n",
       "    </tr>\n",
       "    <tr>\n",
       "      <th>document_create_date_quarter</th>\n",
       "      <td>-0.011532</td>\n",
       "      <td>0.024496</td>\n",
       "      <td>-0.380736</td>\n",
       "      <td>-0.011482</td>\n",
       "      <td>0.028168</td>\n",
       "      <td>0.014084</td>\n",
       "      <td>-0.020246</td>\n",
       "      <td>0.001304</td>\n",
       "      <td>0.973643</td>\n",
       "      <td>-0.434876</td>\n",
       "      <td>1.000000</td>\n",
       "    </tr>\n",
       "  </tbody>\n",
       "</table>\n",
       "</div>"
      ],
      "text/plain": [
       "                              business_code  cust_number  buisness_year  \\\n",
       "business_code                      1.000000     0.122192       0.005754   \n",
       "cust_number                        0.122192     1.000000       0.008760   \n",
       "buisness_year                      0.005754     0.008760       1.000000   \n",
       "document type                     -0.031919    -0.005895      -0.003887   \n",
       "total_open_amount                 -0.124932    -0.138178      -0.005302   \n",
       "cust_payment_terms                 0.203191     0.089729      -0.008787   \n",
       "delay                             -0.085712    -0.156070      -0.017511   \n",
       "document_create_date_day          -0.003145     0.011608       0.002093   \n",
       "document_create_date_month        -0.012531     0.029907      -0.408394   \n",
       "document_create_date_year          0.003622     0.003059       0.945075   \n",
       "document_create_date_quarter      -0.011532     0.024496      -0.380736   \n",
       "\n",
       "                              document type  total_open_amount  \\\n",
       "business_code                     -0.031919          -0.124932   \n",
       "cust_number                       -0.005895          -0.138178   \n",
       "buisness_year                     -0.003887          -0.005302   \n",
       "document type                      1.000000          -0.002538   \n",
       "total_open_amount                 -0.002538           1.000000   \n",
       "cust_payment_terms                -0.010543           0.073161   \n",
       "delay                              0.190442          -0.001663   \n",
       "document_create_date_day           0.015484           0.020039   \n",
       "document_create_date_month        -0.007979           0.027249   \n",
       "document_create_date_year         -0.003483          -0.003258   \n",
       "document_create_date_quarter      -0.011482           0.028168   \n",
       "\n",
       "                              cust_payment_terms     delay  \\\n",
       "business_code                           0.203191 -0.085712   \n",
       "cust_number                             0.089729 -0.156070   \n",
       "buisness_year                          -0.008787 -0.017511   \n",
       "document type                          -0.010543  0.190442   \n",
       "total_open_amount                       0.073161 -0.001663   \n",
       "cust_payment_terms                      1.000000 -0.073072   \n",
       "delay                                  -0.073072  1.000000   \n",
       "document_create_date_day                0.005026 -0.006862   \n",
       "document_create_date_month              0.012052 -0.023345   \n",
       "document_create_date_year              -0.012472 -0.019737   \n",
       "document_create_date_quarter            0.014084 -0.020246   \n",
       "\n",
       "                              document_create_date_day  \\\n",
       "business_code                                -0.003145   \n",
       "cust_number                                   0.011608   \n",
       "buisness_year                                 0.002093   \n",
       "document type                                 0.015484   \n",
       "total_open_amount                             0.020039   \n",
       "cust_payment_terms                            0.005026   \n",
       "delay                                        -0.006862   \n",
       "document_create_date_day                      1.000000   \n",
       "document_create_date_month                   -0.003974   \n",
       "document_create_date_year                    -0.058194   \n",
       "document_create_date_quarter                  0.001304   \n",
       "\n",
       "                              document_create_date_month  \\\n",
       "business_code                                  -0.012531   \n",
       "cust_number                                     0.029907   \n",
       "buisness_year                                  -0.408394   \n",
       "document type                                  -0.007979   \n",
       "total_open_amount                               0.027249   \n",
       "cust_payment_terms                              0.012052   \n",
       "delay                                          -0.023345   \n",
       "document_create_date_day                       -0.003974   \n",
       "document_create_date_month                      1.000000   \n",
       "document_create_date_year                      -0.472078   \n",
       "document_create_date_quarter                    0.973643   \n",
       "\n",
       "                              document_create_date_year  \\\n",
       "business_code                                  0.003622   \n",
       "cust_number                                    0.003059   \n",
       "buisness_year                                  0.945075   \n",
       "document type                                 -0.003483   \n",
       "total_open_amount                             -0.003258   \n",
       "cust_payment_terms                            -0.012472   \n",
       "delay                                         -0.019737   \n",
       "document_create_date_day                      -0.058194   \n",
       "document_create_date_month                    -0.472078   \n",
       "document_create_date_year                      1.000000   \n",
       "document_create_date_quarter                  -0.434876   \n",
       "\n",
       "                              document_create_date_quarter  \n",
       "business_code                                    -0.011532  \n",
       "cust_number                                       0.024496  \n",
       "buisness_year                                    -0.380736  \n",
       "document type                                    -0.011482  \n",
       "total_open_amount                                 0.028168  \n",
       "cust_payment_terms                                0.014084  \n",
       "delay                                            -0.020246  \n",
       "document_create_date_day                          0.001304  \n",
       "document_create_date_month                        0.973643  \n",
       "document_create_date_year                        -0.434876  \n",
       "document_create_date_quarter                      1.000000  "
      ]
     },
     "execution_count": 55,
     "metadata": {},
     "output_type": "execute_result"
    }
   ],
   "source": [
    "#checking corr of the dataset\n",
    "corr = train_df.corr()\n",
    "corr"
   ]
  },
  {
   "cell_type": "code",
   "execution_count": 56,
   "metadata": {},
   "outputs": [
    {
     "data": {
      "text/plain": [
       "<AxesSubplot:>"
      ]
     },
     "execution_count": 56,
     "metadata": {},
     "output_type": "execute_result"
    },
    {
     "data": {
      "image/png": "[encoded data removed]",
      "text/plain": [
       "<Figure size 720x360 with 2 Axes>"
      ]
     },
     "metadata": {
      "needs_background": "light"
     },
     "output_type": "display_data"
    }
   ],
   "source": [
    "#heatmap \n",
    "plt.figure(figsize=(10,5))\n",
    "sns.heatmap(corr,annot=True)"
   ]
  },
  {
   "cell_type": "code",
   "execution_count": 57,
   "metadata": {},
   "outputs": [],
   "source": [
    "#saving the data as train.csv\n",
    "train_df.to_csv('train.csv')"
   ]
  },
  {
   "cell_type": "code",
   "execution_count": 58,
   "metadata": {},
   "outputs": [],
   "source": [
    "#saving the data as test.csv\n",
    "test_df.to_csv('test.csv')"
   ]
  },
  {
   "cell_type": "code",
   "execution_count": 59,
   "metadata": {},
   "outputs": [],
   "source": [
    "#making a copy\n",
    "X = train_df.drop(columns = ['delay']).copy()"
   ]
  },
  {
   "cell_type": "code",
   "execution_count": 60,
   "metadata": {},
   "outputs": [
    {
     "name": "stdout",
     "output_type": "stream",
     "text": [
      "<class 'pandas.core.frame.DataFrame'>\n",
      "Int64Index: 10000 entries, 4 to 49994\n",
      "Data columns (total 16 columns):\n",
      " #   Column                        Non-Null Count  Dtype         \n",
      "---  ------                        --------------  -----         \n",
      " 0   business_code                 10000 non-null  int32         \n",
      " 1   cust_number                   10000 non-null  int64         \n",
      " 2   name_customer                 10000 non-null  object        \n",
      " 3   clear_date                    0 non-null      datetime64[ns]\n",
      " 4   buisness_year                 10000 non-null  int32         \n",
      " 5   posting_date                  10000 non-null  datetime64[ns]\n",
      " 6   document_create_date          10000 non-null  datetime64[ns]\n",
      " 7   due_in_date                   10000 non-null  datetime64[ns]\n",
      " 8   document type                 10000 non-null  int32         \n",
      " 9   total_open_amount             10000 non-null  float64       \n",
      " 10  baseline_create_date          10000 non-null  datetime64[ns]\n",
      " 11  cust_payment_terms            9992 non-null   float64       \n",
      " 12  document_create_date_day      10000 non-null  int64         \n",
      " 13  document_create_date_month    10000 non-null  int64         \n",
      " 14  document_create_date_year     10000 non-null  int64         \n",
      " 15  document_create_date_quarter  10000 non-null  int64         \n",
      "dtypes: datetime64[ns](5), float64(2), int32(3), int64(5), object(1)\n",
      "memory usage: 1.2+ MB\n"
     ]
    }
   ],
   "source": [
    "test_df.info()"
   ]
  },
  {
   "cell_type": "code",
   "execution_count": 61,
   "metadata": {},
   "outputs": [],
   "source": [
    "y = train_df['delay']"
   ]
  },
  {
   "cell_type": "code",
   "execution_count": 62,
   "metadata": {},
   "outputs": [],
   "source": [
    "X_train, X_inter_test, y_train, y_inter_test = train_test_split(X, y, test_size=0.23, random_state=0, shuffle=False)"
   ]
  },
  {
   "cell_type": "code",
   "execution_count": 63,
   "metadata": {},
   "outputs": [],
   "source": [
    "X_val, X_test, y_val, y_test = train_test_split(X_inter_test,y_inter_test, test_size=0.5,random_state=0,shuffle=False)"
   ]
  },
  {
   "cell_type": "code",
   "execution_count": 64,
   "metadata": {},
   "outputs": [
    {
     "data": {
      "text/plain": [
       "((30129, 16), (4500, 16), (4500, 16))"
      ]
     },
     "execution_count": 64,
     "metadata": {},
     "output_type": "execute_result"
    }
   ],
   "source": [
    "X_train.shape , X_val.shape , X_test.shape"
   ]
  },
  {
   "cell_type": "markdown",
   "metadata": {},
   "source": [
    "# EDA"
   ]
  },
  {
   "cell_type": "code",
   "execution_count": 65,
   "metadata": {},
   "outputs": [
    {
     "data": {
      "text/plain": [
       "<AxesSubplot:xlabel='delay', ylabel='Density'>"
      ]
     },
     "execution_count": 65,
     "metadata": {},
     "output_type": "execute_result"
    },
    {
     "data": {
      "image/png": "[encoded data removed]",
      "text/plain": [
       "<Figure size 432x288 with 1 Axes>"
      ]
     },
     "metadata": {
      "needs_background": "light"
     },
     "output_type": "display_data"
    }
   ],
   "source": [
    "sns.distplot(y_train)"
   ]
  },
  {
   "cell_type": "code",
   "execution_count": 66,
   "metadata": {},
   "outputs": [
    {
     "data": {
      "text/html": [
       "<div>\n",
       "<style scoped>\n",
       "    .dataframe tbody tr th:only-of-type {\n",
       "        vertical-align: middle;\n",
       "    }\n",
       "\n",
       "    .dataframe tbody tr th {\n",
       "        vertical-align: top;\n",
       "    }\n",
       "\n",
       "    .dataframe thead th {\n",
       "        text-align: right;\n",
       "    }\n",
       "</style>\n",
       "<table border=\"1\" class=\"dataframe\">\n",
       "  <thead>\n",
       "    <tr style=\"text-align: right;\">\n",
       "      <th></th>\n",
       "      <th>key_0</th>\n",
       "      <th>business_code</th>\n",
       "      <th>cust_number</th>\n",
       "      <th>name_customer</th>\n",
       "      <th>clear_date</th>\n",
       "      <th>buisness_year</th>\n",
       "      <th>posting_date</th>\n",
       "      <th>document_create_date</th>\n",
       "      <th>due_in_date</th>\n",
       "      <th>document type</th>\n",
       "      <th>total_open_amount</th>\n",
       "      <th>baseline_create_date</th>\n",
       "      <th>cust_payment_terms</th>\n",
       "      <th>document_create_date_day</th>\n",
       "      <th>document_create_date_month</th>\n",
       "      <th>document_create_date_year</th>\n",
       "      <th>document_create_date_quarter</th>\n",
       "      <th>delay</th>\n",
       "    </tr>\n",
       "  </thead>\n",
       "  <tbody>\n",
       "    <tr>\n",
       "      <th>0</th>\n",
       "      <td>380</td>\n",
       "      <td>2</td>\n",
       "      <td>16</td>\n",
       "      <td>ASSOCI llc</td>\n",
       "      <td>2019-01-15</td>\n",
       "      <td>0</td>\n",
       "      <td>2018-12-30</td>\n",
       "      <td>2018-12-29</td>\n",
       "      <td>2019-01-14</td>\n",
       "      <td>0</td>\n",
       "      <td>18655.77</td>\n",
       "      <td>2018-12-30</td>\n",
       "      <td>15506</td>\n",
       "      <td>29</td>\n",
       "      <td>12</td>\n",
       "      <td>2018</td>\n",
       "      <td>4</td>\n",
       "      <td>1</td>\n",
       "    </tr>\n",
       "    <tr>\n",
       "      <th>1</th>\n",
       "      <td>8784</td>\n",
       "      <td>2</td>\n",
       "      <td>8869</td>\n",
       "      <td>WAL-MAR llc</td>\n",
       "      <td>2019-01-15</td>\n",
       "      <td>0</td>\n",
       "      <td>2018-12-30</td>\n",
       "      <td>2018-12-29</td>\n",
       "      <td>2019-01-14</td>\n",
       "      <td>0</td>\n",
       "      <td>20467.17</td>\n",
       "      <td>2018-12-30</td>\n",
       "      <td>10524</td>\n",
       "      <td>29</td>\n",
       "      <td>12</td>\n",
       "      <td>2018</td>\n",
       "      <td>4</td>\n",
       "      <td>1</td>\n",
       "    </tr>\n",
       "    <tr>\n",
       "      <th>2</th>\n",
       "      <td>9879</td>\n",
       "      <td>2</td>\n",
       "      <td>8869</td>\n",
       "      <td>WAL-MAR us</td>\n",
       "      <td>2019-01-15</td>\n",
       "      <td>0</td>\n",
       "      <td>2018-12-30</td>\n",
       "      <td>2018-12-29</td>\n",
       "      <td>2019-01-14</td>\n",
       "      <td>0</td>\n",
       "      <td>4439.84</td>\n",
       "      <td>2018-12-30</td>\n",
       "      <td>10524</td>\n",
       "      <td>29</td>\n",
       "      <td>12</td>\n",
       "      <td>2018</td>\n",
       "      <td>4</td>\n",
       "      <td>1</td>\n",
       "    </tr>\n",
       "    <tr>\n",
       "      <th>3</th>\n",
       "      <td>15448</td>\n",
       "      <td>2</td>\n",
       "      <td>117</td>\n",
       "      <td>FR</td>\n",
       "      <td>2019-01-14</td>\n",
       "      <td>0</td>\n",
       "      <td>2018-12-30</td>\n",
       "      <td>2018-12-29</td>\n",
       "      <td>2019-01-14</td>\n",
       "      <td>0</td>\n",
       "      <td>66586.13</td>\n",
       "      <td>2018-12-30</td>\n",
       "      <td>15506</td>\n",
       "      <td>29</td>\n",
       "      <td>12</td>\n",
       "      <td>2018</td>\n",
       "      <td>4</td>\n",
       "      <td>0</td>\n",
       "    </tr>\n",
       "    <tr>\n",
       "      <th>4</th>\n",
       "      <td>14959</td>\n",
       "      <td>2</td>\n",
       "      <td>8869</td>\n",
       "      <td>WAL-MAR corporation</td>\n",
       "      <td>2019-01-10</td>\n",
       "      <td>0</td>\n",
       "      <td>2018-12-30</td>\n",
       "      <td>2018-12-29</td>\n",
       "      <td>2019-01-14</td>\n",
       "      <td>0</td>\n",
       "      <td>8730.88</td>\n",
       "      <td>2018-12-30</td>\n",
       "      <td>10524</td>\n",
       "      <td>29</td>\n",
       "      <td>12</td>\n",
       "      <td>2018</td>\n",
       "      <td>4</td>\n",
       "      <td>-4</td>\n",
       "    </tr>\n",
       "    <tr>\n",
       "      <th>...</th>\n",
       "      <td>...</td>\n",
       "      <td>...</td>\n",
       "      <td>...</td>\n",
       "      <td>...</td>\n",
       "      <td>...</td>\n",
       "      <td>...</td>\n",
       "      <td>...</td>\n",
       "      <td>...</td>\n",
       "      <td>...</td>\n",
       "      <td>...</td>\n",
       "      <td>...</td>\n",
       "      <td>...</td>\n",
       "      <td>...</td>\n",
       "      <td>...</td>\n",
       "      <td>...</td>\n",
       "      <td>...</td>\n",
       "      <td>...</td>\n",
       "      <td>...</td>\n",
       "    </tr>\n",
       "    <tr>\n",
       "      <th>30124</th>\n",
       "      <td>8417</td>\n",
       "      <td>2</td>\n",
       "      <td>8869</td>\n",
       "      <td>WAL-MAR foundation</td>\n",
       "      <td>2019-11-18</td>\n",
       "      <td>0</td>\n",
       "      <td>2019-11-05</td>\n",
       "      <td>2019-11-03</td>\n",
       "      <td>2019-11-20</td>\n",
       "      <td>0</td>\n",
       "      <td>3853.70</td>\n",
       "      <td>2019-11-05</td>\n",
       "      <td>10524</td>\n",
       "      <td>3</td>\n",
       "      <td>11</td>\n",
       "      <td>2019</td>\n",
       "      <td>4</td>\n",
       "      <td>-2</td>\n",
       "    </tr>\n",
       "    <tr>\n",
       "      <th>30125</th>\n",
       "      <td>17104</td>\n",
       "      <td>2</td>\n",
       "      <td>8869</td>\n",
       "      <td>WAL-MAR systems</td>\n",
       "      <td>2019-11-21</td>\n",
       "      <td>0</td>\n",
       "      <td>2019-11-05</td>\n",
       "      <td>2019-11-05</td>\n",
       "      <td>2019-11-20</td>\n",
       "      <td>0</td>\n",
       "      <td>18576.20</td>\n",
       "      <td>2019-11-05</td>\n",
       "      <td>10524</td>\n",
       "      <td>5</td>\n",
       "      <td>11</td>\n",
       "      <td>2019</td>\n",
       "      <td>4</td>\n",
       "      <td>1</td>\n",
       "    </tr>\n",
       "    <tr>\n",
       "      <th>30126</th>\n",
       "      <td>42854</td>\n",
       "      <td>2</td>\n",
       "      <td>259</td>\n",
       "      <td>DEC us</td>\n",
       "      <td>2019-11-08</td>\n",
       "      <td>0</td>\n",
       "      <td>2019-11-05</td>\n",
       "      <td>2019-11-05</td>\n",
       "      <td>2019-11-11</td>\n",
       "      <td>0</td>\n",
       "      <td>5620.16</td>\n",
       "      <td>2019-11-01</td>\n",
       "      <td>462</td>\n",
       "      <td>5</td>\n",
       "      <td>11</td>\n",
       "      <td>2019</td>\n",
       "      <td>4</td>\n",
       "      <td>-3</td>\n",
       "    </tr>\n",
       "    <tr>\n",
       "      <th>30127</th>\n",
       "      <td>39152</td>\n",
       "      <td>2</td>\n",
       "      <td>79</td>\n",
       "      <td>ALBERT associates</td>\n",
       "      <td>2019-11-20</td>\n",
       "      <td>0</td>\n",
       "      <td>2019-11-05</td>\n",
       "      <td>2019-11-05</td>\n",
       "      <td>2019-11-20</td>\n",
       "      <td>0</td>\n",
       "      <td>59495.70</td>\n",
       "      <td>2019-11-05</td>\n",
       "      <td>15506</td>\n",
       "      <td>5</td>\n",
       "      <td>11</td>\n",
       "      <td>2019</td>\n",
       "      <td>4</td>\n",
       "      <td>0</td>\n",
       "    </tr>\n",
       "    <tr>\n",
       "      <th>30128</th>\n",
       "      <td>6572</td>\n",
       "      <td>2</td>\n",
       "      <td>277</td>\n",
       "      <td>DEC associates</td>\n",
       "      <td>2019-11-18</td>\n",
       "      <td>0</td>\n",
       "      <td>2019-11-05</td>\n",
       "      <td>2019-11-05</td>\n",
       "      <td>2019-11-24</td>\n",
       "      <td>0</td>\n",
       "      <td>2768.72</td>\n",
       "      <td>2019-11-01</td>\n",
       "      <td>1033</td>\n",
       "      <td>5</td>\n",
       "      <td>11</td>\n",
       "      <td>2019</td>\n",
       "      <td>4</td>\n",
       "      <td>-6</td>\n",
       "    </tr>\n",
       "  </tbody>\n",
       "</table>\n",
       "<p>30129 rows × 18 columns</p>\n",
       "</div>"
      ],
      "text/plain": [
       "       key_0  business_code  cust_number        name_customer clear_date  \\\n",
       "0        380              2           16           ASSOCI llc 2019-01-15   \n",
       "1       8784              2         8869          WAL-MAR llc 2019-01-15   \n",
       "2       9879              2         8869           WAL-MAR us 2019-01-15   \n",
       "3      15448              2          117                  FR  2019-01-14   \n",
       "4      14959              2         8869  WAL-MAR corporation 2019-01-10   \n",
       "...      ...            ...          ...                  ...        ...   \n",
       "30124   8417              2         8869   WAL-MAR foundation 2019-11-18   \n",
       "30125  17104              2         8869      WAL-MAR systems 2019-11-21   \n",
       "30126  42854              2          259               DEC us 2019-11-08   \n",
       "30127  39152              2           79    ALBERT associates 2019-11-20   \n",
       "30128   6572              2          277       DEC associates 2019-11-18   \n",
       "\n",
       "       buisness_year posting_date document_create_date due_in_date  \\\n",
       "0                  0   2018-12-30           2018-12-29  2019-01-14   \n",
       "1                  0   2018-12-30           2018-12-29  2019-01-14   \n",
       "2                  0   2018-12-30           2018-12-29  2019-01-14   \n",
       "3                  0   2018-12-30           2018-12-29  2019-01-14   \n",
       "4                  0   2018-12-30           2018-12-29  2019-01-14   \n",
       "...              ...          ...                  ...         ...   \n",
       "30124              0   2019-11-05           2019-11-03  2019-11-20   \n",
       "30125              0   2019-11-05           2019-11-05  2019-11-20   \n",
       "30126              0   2019-11-05           2019-11-05  2019-11-11   \n",
       "30127              0   2019-11-05           2019-11-05  2019-11-20   \n",
       "30128              0   2019-11-05           2019-11-05  2019-11-24   \n",
       "\n",
       "       document type  total_open_amount baseline_create_date  \\\n",
       "0                  0           18655.77           2018-12-30   \n",
       "1                  0           20467.17           2018-12-30   \n",
       "2                  0            4439.84           2018-12-30   \n",
       "3                  0           66586.13           2018-12-30   \n",
       "4                  0            8730.88           2018-12-30   \n",
       "...              ...                ...                  ...   \n",
       "30124              0            3853.70           2019-11-05   \n",
       "30125              0           18576.20           2019-11-05   \n",
       "30126              0            5620.16           2019-11-01   \n",
       "30127              0           59495.70           2019-11-05   \n",
       "30128              0            2768.72           2019-11-01   \n",
       "\n",
       "       cust_payment_terms  document_create_date_day  \\\n",
       "0                   15506                        29   \n",
       "1                   10524                        29   \n",
       "2                   10524                        29   \n",
       "3                   15506                        29   \n",
       "4                   10524                        29   \n",
       "...                   ...                       ...   \n",
       "30124               10524                         3   \n",
       "30125               10524                         5   \n",
       "30126                 462                         5   \n",
       "30127               15506                         5   \n",
       "30128                1033                         5   \n",
       "\n",
       "       document_create_date_month  document_create_date_year  \\\n",
       "0                              12                       2018   \n",
       "1                              12                       2018   \n",
       "2                              12                       2018   \n",
       "3                              12                       2018   \n",
       "4                              12                       2018   \n",
       "...                           ...                        ...   \n",
       "30124                          11                       2019   \n",
       "30125                          11                       2019   \n",
       "30126                          11                       2019   \n",
       "30127                          11                       2019   \n",
       "30128                          11                       2019   \n",
       "\n",
       "       document_create_date_quarter  delay  \n",
       "0                                 4      1  \n",
       "1                                 4      1  \n",
       "2                                 4      1  \n",
       "3                                 4      0  \n",
       "4                                 4     -4  \n",
       "...                             ...    ...  \n",
       "30124                             4     -2  \n",
       "30125                             4      1  \n",
       "30126                             4     -3  \n",
       "30127                             4      0  \n",
       "30128                             4     -6  \n",
       "\n",
       "[30129 rows x 18 columns]"
      ]
     },
     "execution_count": 66,
     "metadata": {},
     "output_type": "execute_result"
    }
   ],
   "source": [
    "X_train.merge(y_train,on = X_train.index)"
   ]
  },
  {
   "cell_type": "code",
   "execution_count": 67,
   "metadata": {},
   "outputs": [
    {
     "data": {
      "text/plain": [
       "<AxesSubplot:xlabel='delay', ylabel='posting_date'>"
      ]
     },
     "execution_count": 67,
     "metadata": {},
     "output_type": "execute_result"
    },
    {
     "data": {
      "image/png": "[encoded data removed]",
      "text/plain": [
       "<Figure size 432x288 with 1 Axes>"
      ]
     },
     "metadata": {
      "needs_background": "light"
     },
     "output_type": "display_data"
    }
   ],
   "source": [
    "sns.scatterplot(data=X_train.merge(y_train,on = X_train.index), x=\"delay\", y=\"posting_date\")"
   ]
  },
  {
   "cell_type": "code",
   "execution_count": 68,
   "metadata": {},
   "outputs": [],
   "source": [
    "X_train.drop(columns = ['name_customer'],axis=1,inplace=True)"
   ]
  },
  {
   "cell_type": "code",
   "execution_count": 69,
   "metadata": {},
   "outputs": [],
   "source": [
    "X_val.drop(columns = ['name_customer'],axis=1,inplace=True)"
   ]
  },
  {
   "cell_type": "code",
   "execution_count": 70,
   "metadata": {},
   "outputs": [],
   "source": [
    "X_test.drop(columns = ['name_customer'],axis=1,inplace=True)"
   ]
  },
  {
   "cell_type": "code",
   "execution_count": 71,
   "metadata": {},
   "outputs": [],
   "source": [
    "test_df.drop(columns = ['name_customer'],axis=1,inplace=True)"
   ]
  },
  {
   "cell_type": "code",
   "execution_count": 72,
   "metadata": {},
   "outputs": [
    {
     "data": {
      "text/plain": [
       "<AxesSubplot:xlabel='cust_payment_terms', ylabel='Density'>"
      ]
     },
     "execution_count": 72,
     "metadata": {},
     "output_type": "execute_result"
    },
    {
     "data": {
      "image/png": "[encoded data removed]",
      "text/plain": [
       "<Figure size 360x360 with 1 Axes>"
      ]
     },
     "metadata": {
      "needs_background": "light"
     },
     "output_type": "display_data"
    }
   ],
   "source": [
    "plt.figure(figsize=(5,5))\n",
    "plt.figure(1)\n",
    "sns.distplot(X_train['cust_payment_terms'],color='blue')"
   ]
  },
  {
   "cell_type": "markdown",
   "metadata": {},
   "source": [
    "# Feature Selection"
   ]
  },
  {
   "cell_type": "code",
   "execution_count": 73,
   "metadata": {},
   "outputs": [
    {
     "data": {
      "text/plain": [
       "<AxesSubplot:title={'center':'Pearson Correlation of Features'}>"
      ]
     },
     "execution_count": 73,
     "metadata": {},
     "output_type": "execute_result"
    },
    {
     "data": {
      "image/png": "[encoded data removed]",
      "text/plain": [
       "<Figure size 1008x864 with 2 Axes>"
      ]
     },
     "metadata": {
      "needs_background": "light"
     },
     "output_type": "display_data"
    }
   ],
   "source": [
    "colormap = plt.cm.RdBu\n",
    "plt.figure(figsize=(14,12))\n",
    "plt.title('Pearson Correlation of Features', y=1.05, size=15)\n",
    "sns.heatmap(X_train.merge(y_train , on = X_train.index ).corr(),linewidths=0.1,vmax=1.0, \n",
    "            square=True, cmap=colormap, linecolor='white', annot=True)"
   ]
  },
  {
   "cell_type": "code",
   "execution_count": 74,
   "metadata": {},
   "outputs": [
    {
     "name": "stdout",
     "output_type": "stream",
     "text": [
      "<class 'pandas.core.frame.DataFrame'>\n",
      "Int64Index: 30129 entries, 380 to 6572\n",
      "Data columns (total 15 columns):\n",
      " #   Column                        Non-Null Count  Dtype         \n",
      "---  ------                        --------------  -----         \n",
      " 0   business_code                 30129 non-null  int32         \n",
      " 1   cust_number                   30129 non-null  int64         \n",
      " 2   clear_date                    30129 non-null  datetime64[ns]\n",
      " 3   buisness_year                 30129 non-null  int32         \n",
      " 4   posting_date                  30129 non-null  datetime64[ns]\n",
      " 5   document_create_date          30129 non-null  datetime64[ns]\n",
      " 6   due_in_date                   30129 non-null  datetime64[ns]\n",
      " 7   document type                 30129 non-null  int32         \n",
      " 8   total_open_amount             30129 non-null  float64       \n",
      " 9   baseline_create_date          30129 non-null  datetime64[ns]\n",
      " 10  cust_payment_terms            30129 non-null  int64         \n",
      " 11  document_create_date_day      30129 non-null  int64         \n",
      " 12  document_create_date_month    30129 non-null  int64         \n",
      " 13  document_create_date_year     30129 non-null  int64         \n",
      " 14  document_create_date_quarter  30129 non-null  int64         \n",
      "dtypes: datetime64[ns](5), float64(1), int32(3), int64(6)\n",
      "memory usage: 3.3 MB\n"
     ]
    }
   ],
   "source": [
    "X_train.info()"
   ]
  },
  {
   "cell_type": "code",
   "execution_count": 75,
   "metadata": {},
   "outputs": [],
   "source": [
    "X_train=X_train.drop(columns=['document type','buisness_year','clear_date','posting_date','document_create_date','due_in_date','baseline_create_date'],axis=1)"
   ]
  },
  {
   "cell_type": "code",
   "execution_count": 76,
   "metadata": {},
   "outputs": [],
   "source": [
    "X_test=X_test.drop(columns=['document type','buisness_year','clear_date','posting_date','document_create_date','due_in_date','baseline_create_date'],axis=1)"
   ]
  },
  {
   "cell_type": "code",
   "execution_count": 77,
   "metadata": {},
   "outputs": [],
   "source": [
    "X_val=X_val.drop(columns=['document type','buisness_year','clear_date','posting_date','document_create_date','due_in_date','baseline_create_date'],axis=1)"
   ]
  },
  {
   "cell_type": "code",
   "execution_count": 78,
   "metadata": {},
   "outputs": [],
   "source": [
    "final_test_df=test_df.drop(columns=['document type','buisness_year','clear_date','posting_date','document_create_date','due_in_date','baseline_create_date'],axis=1)"
   ]
  },
  {
   "cell_type": "code",
   "execution_count": 79,
   "metadata": {},
   "outputs": [
    {
     "data": {
      "text/plain": [
       "business_code                       5\n",
       "cust_number                       136\n",
       "total_open_amount               27481\n",
       "cust_payment_terms                 44\n",
       "document_create_date_day           31\n",
       "document_create_date_month         12\n",
       "document_create_date_year           2\n",
       "document_create_date_quarter        4\n",
       "dtype: int64"
      ]
     },
     "execution_count": 79,
     "metadata": {},
     "output_type": "execute_result"
    }
   ],
   "source": [
    "X_train.nunique()"
   ]
  },
  {
   "cell_type": "markdown",
   "metadata": {},
   "source": [
    "# Linear Regression"
   ]
  },
  {
   "cell_type": "code",
   "execution_count": 80,
   "metadata": {},
   "outputs": [
    {
     "data": {
      "text/plain": [
       "LinearRegression()"
      ]
     },
     "execution_count": 80,
     "metadata": {},
     "output_type": "execute_result"
    }
   ],
   "source": [
    "from sklearn.linear_model import LinearRegression\n",
    "base_model = LinearRegression()\n",
    "base_model.fit(X_train, y_train)"
   ]
  },
  {
   "cell_type": "code",
   "execution_count": 81,
   "metadata": {},
   "outputs": [
    {
     "data": {
      "text/plain": [
       "array([ 1.24752935,  1.17907518,  2.95884672, ...,  0.0349747 ,\n",
       "       -0.80888312, -0.2016816 ])"
      ]
     },
     "execution_count": 81,
     "metadata": {},
     "output_type": "execute_result"
    }
   ],
   "source": [
    "y_predict = base_model.predict(X_val)\n",
    "y_predict"
   ]
  },
  {
   "cell_type": "code",
   "execution_count": 82,
   "metadata": {},
   "outputs": [
    {
     "data": {
      "text/plain": [
       "array([1, 1, 2, ..., 0, 0, 0])"
      ]
     },
     "execution_count": 82,
     "metadata": {},
     "output_type": "execute_result"
    }
   ],
   "source": [
    "y_predict = y_predict.astype(int)\n",
    "y_predict"
   ]
  },
  {
   "cell_type": "code",
   "execution_count": 83,
   "metadata": {},
   "outputs": [
    {
     "data": {
      "text/plain": [
       "6.097504043094646"
      ]
     },
     "execution_count": 83,
     "metadata": {},
     "output_type": "execute_result"
    }
   ],
   "source": [
    "from sklearn.metrics import mean_squared_error\n",
    "\n",
    "mean_squared_error(y_val, y_predict, squared=False)"
   ]
  },
  {
   "cell_type": "markdown",
   "metadata": {},
   "source": [
    "# Decision tree regressor"
   ]
  },
  {
   "cell_type": "code",
   "execution_count": 84,
   "metadata": {},
   "outputs": [],
   "source": [
    "from sklearn.tree import DecisionTreeRegressor\n",
    "regressor = DecisionTreeRegressor(random_state=0 , max_depth=5)"
   ]
  },
  {
   "cell_type": "code",
   "execution_count": 85,
   "metadata": {},
   "outputs": [
    {
     "data": {
      "text/plain": [
       "DecisionTreeRegressor(max_depth=5, random_state=0)"
      ]
     },
     "execution_count": 85,
     "metadata": {},
     "output_type": "execute_result"
    }
   ],
   "source": [
    "regressor.fit(X_train, y_train)"
   ]
  },
  {
   "cell_type": "code",
   "execution_count": 86,
   "metadata": {},
   "outputs": [
    {
     "data": {
      "text/plain": [
       "array([0.80673434, 0.80673434, 0.80673434, ..., 0.80673434, 0.80673434,\n",
       "       0.80673434])"
      ]
     },
     "execution_count": 86,
     "metadata": {},
     "output_type": "execute_result"
    }
   ],
   "source": [
    "y_predict2 = regressor.predict(X_val)\n",
    "y_predict2"
   ]
  },
  {
   "cell_type": "code",
   "execution_count": 87,
   "metadata": {},
   "outputs": [
    {
     "data": {
      "text/plain": [
       "array([0, 0, 0, ..., 0, 0, 0])"
      ]
     },
     "execution_count": 87,
     "metadata": {},
     "output_type": "execute_result"
    }
   ],
   "source": [
    "y_predict2 = y_predict2.astype(int)\n",
    "y_predict2"
   ]
  },
  {
   "cell_type": "code",
   "execution_count": 88,
   "metadata": {},
   "outputs": [
    {
     "data": {
      "text/plain": [
       "4.717508758750628"
      ]
     },
     "execution_count": 88,
     "metadata": {},
     "output_type": "execute_result"
    }
   ],
   "source": [
    "mse=mean_squared_error(y_val, y_predict2, squared=False)\n",
    "mse"
   ]
  },
  {
   "cell_type": "code",
   "execution_count": 89,
   "metadata": {},
   "outputs": [
    {
     "name": "stdout",
     "output_type": "stream",
     "text": [
      "2.1719826792013395\n"
     ]
    }
   ],
   "source": [
    "import math\n",
    "\n",
    "rmse = math. sqrt(mse)\n",
    "print(rmse)"
   ]
  },
  {
   "cell_type": "code",
   "execution_count": 90,
   "metadata": {},
   "outputs": [
    {
     "data": {
      "text/plain": [
       "7.705982814475331"
      ]
     },
     "execution_count": 90,
     "metadata": {},
     "output_type": "execute_result"
    }
   ],
   "source": [
    "y_predict_test = regressor.predict(X_test)\n",
    "mean_squared_error(y_test, y_predict_test, squared=False)"
   ]
  },
  {
   "cell_type": "markdown",
   "metadata": {},
   "source": [
    "# Accuracy Checker"
   ]
  },
  {
   "cell_type": "code",
   "execution_count": 91,
   "metadata": {},
   "outputs": [
    {
     "name": "stdout",
     "output_type": "stream",
     "text": [
      "91.6 %\n"
     ]
    }
   ],
   "source": [
    "from sklearn.ensemble import RandomForestRegressor\n",
    "\n",
    "import random\n",
    "random_model = RandomForestRegressor(n_estimators=500)\n",
    "\n",
    "random_model.fit(X_train, y_train)\n",
    "\n",
    "y_pred2 = random_model.predict(X_test).astype(int)\n",
    "#Checking the accuracy\n",
    "random_model_accuracy = round(random_model.score(X_train, y_train)*100,2)\n",
    "print(round(random_model_accuracy,2),'%')"
   ]
  },
  {
   "cell_type": "code",
   "execution_count": 92,
   "metadata": {},
   "outputs": [
    {
     "data": {
      "text/html": [
       "<div>\n",
       "<style scoped>\n",
       "    .dataframe tbody tr th:only-of-type {\n",
       "        vertical-align: middle;\n",
       "    }\n",
       "\n",
       "    .dataframe tbody tr th {\n",
       "        vertical-align: top;\n",
       "    }\n",
       "\n",
       "    .dataframe thead th {\n",
       "        text-align: right;\n",
       "    }\n",
       "</style>\n",
       "<table border=\"1\" class=\"dataframe\">\n",
       "  <thead>\n",
       "    <tr style=\"text-align: right;\">\n",
       "      <th></th>\n",
       "      <th>business_code</th>\n",
       "      <th>cust_number</th>\n",
       "      <th>total_open_amount</th>\n",
       "      <th>cust_payment_terms</th>\n",
       "      <th>document_create_date_day</th>\n",
       "      <th>document_create_date_month</th>\n",
       "      <th>document_create_date_year</th>\n",
       "      <th>document_create_date_quarter</th>\n",
       "    </tr>\n",
       "  </thead>\n",
       "  <tbody>\n",
       "    <tr>\n",
       "      <th>4</th>\n",
       "      <td>2</td>\n",
       "      <td>1</td>\n",
       "      <td>95651.82</td>\n",
       "      <td>15506.0</td>\n",
       "      <td>11</td>\n",
       "      <td>4</td>\n",
       "      <td>2020</td>\n",
       "      <td>2</td>\n",
       "    </tr>\n",
       "    <tr>\n",
       "      <th>13</th>\n",
       "      <td>2</td>\n",
       "      <td>10</td>\n",
       "      <td>12446.28</td>\n",
       "      <td>462.0</td>\n",
       "      <td>7</td>\n",
       "      <td>3</td>\n",
       "      <td>2020</td>\n",
       "      <td>1</td>\n",
       "    </tr>\n",
       "    <tr>\n",
       "      <th>22</th>\n",
       "      <td>2</td>\n",
       "      <td>5</td>\n",
       "      <td>11889.49</td>\n",
       "      <td>15506.0</td>\n",
       "      <td>6</td>\n",
       "      <td>4</td>\n",
       "      <td>2020</td>\n",
       "      <td>2</td>\n",
       "    </tr>\n",
       "    <tr>\n",
       "      <th>29</th>\n",
       "      <td>2</td>\n",
       "      <td>1</td>\n",
       "      <td>20691.83</td>\n",
       "      <td>10524.0</td>\n",
       "      <td>21</td>\n",
       "      <td>3</td>\n",
       "      <td>2020</td>\n",
       "      <td>1</td>\n",
       "    </tr>\n",
       "    <tr>\n",
       "      <th>45</th>\n",
       "      <td>2</td>\n",
       "      <td>1</td>\n",
       "      <td>8058.89</td>\n",
       "      <td>590.0</td>\n",
       "      <td>31</td>\n",
       "      <td>3</td>\n",
       "      <td>2020</td>\n",
       "      <td>1</td>\n",
       "    </tr>\n",
       "    <tr>\n",
       "      <th>...</th>\n",
       "      <td>...</td>\n",
       "      <td>...</td>\n",
       "      <td>...</td>\n",
       "      <td>...</td>\n",
       "      <td>...</td>\n",
       "      <td>...</td>\n",
       "      <td>...</td>\n",
       "      <td>...</td>\n",
       "    </tr>\n",
       "    <tr>\n",
       "      <th>49982</th>\n",
       "      <td>2</td>\n",
       "      <td>5</td>\n",
       "      <td>132.72</td>\n",
       "      <td>15506.0</td>\n",
       "      <td>27</td>\n",
       "      <td>4</td>\n",
       "      <td>2020</td>\n",
       "      <td>2</td>\n",
       "    </tr>\n",
       "    <tr>\n",
       "      <th>49985</th>\n",
       "      <td>2</td>\n",
       "      <td>1</td>\n",
       "      <td>53216.50</td>\n",
       "      <td>10524.0</td>\n",
       "      <td>22</td>\n",
       "      <td>3</td>\n",
       "      <td>2020</td>\n",
       "      <td>1</td>\n",
       "    </tr>\n",
       "    <tr>\n",
       "      <th>49987</th>\n",
       "      <td>2</td>\n",
       "      <td>1</td>\n",
       "      <td>1322.22</td>\n",
       "      <td>10524.0</td>\n",
       "      <td>18</td>\n",
       "      <td>3</td>\n",
       "      <td>2020</td>\n",
       "      <td>1</td>\n",
       "    </tr>\n",
       "    <tr>\n",
       "      <th>49988</th>\n",
       "      <td>2</td>\n",
       "      <td>1</td>\n",
       "      <td>73209.62</td>\n",
       "      <td>15506.0</td>\n",
       "      <td>3</td>\n",
       "      <td>3</td>\n",
       "      <td>2020</td>\n",
       "      <td>1</td>\n",
       "    </tr>\n",
       "    <tr>\n",
       "      <th>49994</th>\n",
       "      <td>2</td>\n",
       "      <td>4</td>\n",
       "      <td>18815.63</td>\n",
       "      <td>15506.0</td>\n",
       "      <td>13</td>\n",
       "      <td>4</td>\n",
       "      <td>2020</td>\n",
       "      <td>2</td>\n",
       "    </tr>\n",
       "  </tbody>\n",
       "</table>\n",
       "<p>10000 rows × 8 columns</p>\n",
       "</div>"
      ],
      "text/plain": [
       "       business_code  cust_number  total_open_amount  cust_payment_terms  \\\n",
       "4                  2            1           95651.82             15506.0   \n",
       "13                 2           10           12446.28               462.0   \n",
       "22                 2            5           11889.49             15506.0   \n",
       "29                 2            1           20691.83             10524.0   \n",
       "45                 2            1            8058.89               590.0   \n",
       "...              ...          ...                ...                 ...   \n",
       "49982              2            5             132.72             15506.0   \n",
       "49985              2            1           53216.50             10524.0   \n",
       "49987              2            1            1322.22             10524.0   \n",
       "49988              2            1           73209.62             15506.0   \n",
       "49994              2            4           18815.63             15506.0   \n",
       "\n",
       "       document_create_date_day  document_create_date_month  \\\n",
       "4                            11                           4   \n",
       "13                            7                           3   \n",
       "22                            6                           4   \n",
       "29                           21                           3   \n",
       "45                           31                           3   \n",
       "...                         ...                         ...   \n",
       "49982                        27                           4   \n",
       "49985                        22                           3   \n",
       "49987                        18                           3   \n",
       "49988                         3                           3   \n",
       "49994                        13                           4   \n",
       "\n",
       "       document_create_date_year  document_create_date_quarter  \n",
       "4                           2020                             2  \n",
       "13                          2020                             1  \n",
       "22                          2020                             2  \n",
       "29                          2020                             1  \n",
       "45                          2020                             1  \n",
       "...                          ...                           ...  \n",
       "49982                       2020                             2  \n",
       "49985                       2020                             1  \n",
       "49987                       2020                             1  \n",
       "49988                       2020                             1  \n",
       "49994                       2020                             2  \n",
       "\n",
       "[10000 rows x 8 columns]"
      ]
     },
     "execution_count": 92,
     "metadata": {},
     "output_type": "execute_result"
    }
   ],
   "source": [
    "final_test_df"
   ]
  },
  {
   "cell_type": "code",
   "execution_count": 93,
   "metadata": {},
   "outputs": [
    {
     "data": {
      "text/html": [
       "<div>\n",
       "<style scoped>\n",
       "    .dataframe tbody tr th:only-of-type {\n",
       "        vertical-align: middle;\n",
       "    }\n",
       "\n",
       "    .dataframe tbody tr th {\n",
       "        vertical-align: top;\n",
       "    }\n",
       "\n",
       "    .dataframe thead th {\n",
       "        text-align: right;\n",
       "    }\n",
       "</style>\n",
       "<table border=\"1\" class=\"dataframe\">\n",
       "  <thead>\n",
       "    <tr style=\"text-align: right;\">\n",
       "      <th></th>\n",
       "      <th>Null_Count</th>\n",
       "    </tr>\n",
       "  </thead>\n",
       "  <tbody>\n",
       "    <tr>\n",
       "      <th>cust_payment_terms</th>\n",
       "      <td>8</td>\n",
       "    </tr>\n",
       "  </tbody>\n",
       "</table>\n",
       "</div>"
      ],
      "text/plain": [
       "                    Null_Count\n",
       "cust_payment_terms           8"
      ]
     },
     "execution_count": 93,
     "metadata": {},
     "output_type": "execute_result"
    }
   ],
   "source": [
    "null = final_test_df.isnull().sum().to_frame(name = 'Null_Count')\n",
    "null = null[null['Null_Count']>0]\n",
    "null_features = null.index\n",
    "null"
   ]
  },
  {
   "cell_type": "code",
   "execution_count": 94,
   "metadata": {},
   "outputs": [],
   "source": [
    "final_test_df=final_test_df.dropna()"
   ]
  },
  {
   "cell_type": "code",
   "execution_count": 95,
   "metadata": {},
   "outputs": [],
   "source": [
    "#predict delay for final test data\n",
    "final_test_df['delay']=random_model.predict(final_test_df).astype(int)"
   ]
  },
  {
   "cell_type": "code",
   "execution_count": 96,
   "metadata": {},
   "outputs": [
    {
     "data": {
      "text/html": [
       "<div>\n",
       "<style scoped>\n",
       "    .dataframe tbody tr th:only-of-type {\n",
       "        vertical-align: middle;\n",
       "    }\n",
       "\n",
       "    .dataframe tbody tr th {\n",
       "        vertical-align: top;\n",
       "    }\n",
       "\n",
       "    .dataframe thead th {\n",
       "        text-align: right;\n",
       "    }\n",
       "</style>\n",
       "<table border=\"1\" class=\"dataframe\">\n",
       "  <thead>\n",
       "    <tr style=\"text-align: right;\">\n",
       "      <th></th>\n",
       "      <th>business_code</th>\n",
       "      <th>cust_number</th>\n",
       "      <th>total_open_amount</th>\n",
       "      <th>cust_payment_terms</th>\n",
       "      <th>document_create_date_day</th>\n",
       "      <th>document_create_date_month</th>\n",
       "      <th>document_create_date_year</th>\n",
       "      <th>document_create_date_quarter</th>\n",
       "      <th>delay</th>\n",
       "    </tr>\n",
       "  </thead>\n",
       "  <tbody>\n",
       "    <tr>\n",
       "      <th>4</th>\n",
       "      <td>2</td>\n",
       "      <td>1</td>\n",
       "      <td>95651.82</td>\n",
       "      <td>15506.0</td>\n",
       "      <td>11</td>\n",
       "      <td>4</td>\n",
       "      <td>2020</td>\n",
       "      <td>2</td>\n",
       "      <td>-1</td>\n",
       "    </tr>\n",
       "    <tr>\n",
       "      <th>13</th>\n",
       "      <td>2</td>\n",
       "      <td>10</td>\n",
       "      <td>12446.28</td>\n",
       "      <td>462.0</td>\n",
       "      <td>7</td>\n",
       "      <td>3</td>\n",
       "      <td>2020</td>\n",
       "      <td>1</td>\n",
       "      <td>3</td>\n",
       "    </tr>\n",
       "    <tr>\n",
       "      <th>22</th>\n",
       "      <td>2</td>\n",
       "      <td>5</td>\n",
       "      <td>11889.49</td>\n",
       "      <td>15506.0</td>\n",
       "      <td>6</td>\n",
       "      <td>4</td>\n",
       "      <td>2020</td>\n",
       "      <td>2</td>\n",
       "      <td>1</td>\n",
       "    </tr>\n",
       "    <tr>\n",
       "      <th>29</th>\n",
       "      <td>2</td>\n",
       "      <td>1</td>\n",
       "      <td>20691.83</td>\n",
       "      <td>10524.0</td>\n",
       "      <td>21</td>\n",
       "      <td>3</td>\n",
       "      <td>2020</td>\n",
       "      <td>1</td>\n",
       "      <td>0</td>\n",
       "    </tr>\n",
       "    <tr>\n",
       "      <th>45</th>\n",
       "      <td>2</td>\n",
       "      <td>1</td>\n",
       "      <td>8058.89</td>\n",
       "      <td>590.0</td>\n",
       "      <td>31</td>\n",
       "      <td>3</td>\n",
       "      <td>2020</td>\n",
       "      <td>1</td>\n",
       "      <td>-27</td>\n",
       "    </tr>\n",
       "    <tr>\n",
       "      <th>...</th>\n",
       "      <td>...</td>\n",
       "      <td>...</td>\n",
       "      <td>...</td>\n",
       "      <td>...</td>\n",
       "      <td>...</td>\n",
       "      <td>...</td>\n",
       "      <td>...</td>\n",
       "      <td>...</td>\n",
       "      <td>...</td>\n",
       "    </tr>\n",
       "    <tr>\n",
       "      <th>49982</th>\n",
       "      <td>2</td>\n",
       "      <td>5</td>\n",
       "      <td>132.72</td>\n",
       "      <td>15506.0</td>\n",
       "      <td>27</td>\n",
       "      <td>4</td>\n",
       "      <td>2020</td>\n",
       "      <td>2</td>\n",
       "      <td>5</td>\n",
       "    </tr>\n",
       "    <tr>\n",
       "      <th>49985</th>\n",
       "      <td>2</td>\n",
       "      <td>1</td>\n",
       "      <td>53216.50</td>\n",
       "      <td>10524.0</td>\n",
       "      <td>22</td>\n",
       "      <td>3</td>\n",
       "      <td>2020</td>\n",
       "      <td>1</td>\n",
       "      <td>0</td>\n",
       "    </tr>\n",
       "    <tr>\n",
       "      <th>49987</th>\n",
       "      <td>2</td>\n",
       "      <td>1</td>\n",
       "      <td>1322.22</td>\n",
       "      <td>10524.0</td>\n",
       "      <td>18</td>\n",
       "      <td>3</td>\n",
       "      <td>2020</td>\n",
       "      <td>1</td>\n",
       "      <td>0</td>\n",
       "    </tr>\n",
       "    <tr>\n",
       "      <th>49988</th>\n",
       "      <td>2</td>\n",
       "      <td>1</td>\n",
       "      <td>73209.62</td>\n",
       "      <td>15506.0</td>\n",
       "      <td>3</td>\n",
       "      <td>3</td>\n",
       "      <td>2020</td>\n",
       "      <td>1</td>\n",
       "      <td>-2</td>\n",
       "    </tr>\n",
       "    <tr>\n",
       "      <th>49994</th>\n",
       "      <td>2</td>\n",
       "      <td>4</td>\n",
       "      <td>18815.63</td>\n",
       "      <td>15506.0</td>\n",
       "      <td>13</td>\n",
       "      <td>4</td>\n",
       "      <td>2020</td>\n",
       "      <td>2</td>\n",
       "      <td>1</td>\n",
       "    </tr>\n",
       "  </tbody>\n",
       "</table>\n",
       "<p>9992 rows × 9 columns</p>\n",
       "</div>"
      ],
      "text/plain": [
       "       business_code  cust_number  total_open_amount  cust_payment_terms  \\\n",
       "4                  2            1           95651.82             15506.0   \n",
       "13                 2           10           12446.28               462.0   \n",
       "22                 2            5           11889.49             15506.0   \n",
       "29                 2            1           20691.83             10524.0   \n",
       "45                 2            1            8058.89               590.0   \n",
       "...              ...          ...                ...                 ...   \n",
       "49982              2            5             132.72             15506.0   \n",
       "49985              2            1           53216.50             10524.0   \n",
       "49987              2            1            1322.22             10524.0   \n",
       "49988              2            1           73209.62             15506.0   \n",
       "49994              2            4           18815.63             15506.0   \n",
       "\n",
       "       document_create_date_day  document_create_date_month  \\\n",
       "4                            11                           4   \n",
       "13                            7                           3   \n",
       "22                            6                           4   \n",
       "29                           21                           3   \n",
       "45                           31                           3   \n",
       "...                         ...                         ...   \n",
       "49982                        27                           4   \n",
       "49985                        22                           3   \n",
       "49987                        18                           3   \n",
       "49988                         3                           3   \n",
       "49994                        13                           4   \n",
       "\n",
       "       document_create_date_year  document_create_date_quarter  delay  \n",
       "4                           2020                             2     -1  \n",
       "13                          2020                             1      3  \n",
       "22                          2020                             2      1  \n",
       "29                          2020                             1      0  \n",
       "45                          2020                             1    -27  \n",
       "...                          ...                           ...    ...  \n",
       "49982                       2020                             2      5  \n",
       "49985                       2020                             1      0  \n",
       "49987                       2020                             1      0  \n",
       "49988                       2020                             1     -2  \n",
       "49994                       2020                             2      1  \n",
       "\n",
       "[9992 rows x 9 columns]"
      ]
     },
     "execution_count": 96,
     "metadata": {},
     "output_type": "execute_result"
    }
   ],
   "source": [
    "final_test_df"
   ]
  },
  {
   "cell_type": "code",
   "execution_count": 97,
   "metadata": {},
   "outputs": [],
   "source": [
    "#creating payment Date Prediction\n",
    "final_test_df['Payment date prediction']=test_df['due_in_date']+pd.to_timedelta(final_test_df['delay'],unit='d')"
   ]
  },
  {
   "cell_type": "code",
   "execution_count": 98,
   "metadata": {},
   "outputs": [
    {
     "data": {
      "text/html": [
       "<div>\n",
       "<style scoped>\n",
       "    .dataframe tbody tr th:only-of-type {\n",
       "        vertical-align: middle;\n",
       "    }\n",
       "\n",
       "    .dataframe tbody tr th {\n",
       "        vertical-align: top;\n",
       "    }\n",
       "\n",
       "    .dataframe thead th {\n",
       "        text-align: right;\n",
       "    }\n",
       "</style>\n",
       "<table border=\"1\" class=\"dataframe\">\n",
       "  <thead>\n",
       "    <tr style=\"text-align: right;\">\n",
       "      <th></th>\n",
       "      <th>business_code</th>\n",
       "      <th>cust_number</th>\n",
       "      <th>total_open_amount</th>\n",
       "      <th>cust_payment_terms</th>\n",
       "      <th>document_create_date_day</th>\n",
       "      <th>document_create_date_month</th>\n",
       "      <th>document_create_date_year</th>\n",
       "      <th>document_create_date_quarter</th>\n",
       "      <th>delay</th>\n",
       "      <th>Payment date prediction</th>\n",
       "    </tr>\n",
       "  </thead>\n",
       "  <tbody>\n",
       "    <tr>\n",
       "      <th>4</th>\n",
       "      <td>2</td>\n",
       "      <td>1</td>\n",
       "      <td>95651.82</td>\n",
       "      <td>15506.0</td>\n",
       "      <td>11</td>\n",
       "      <td>4</td>\n",
       "      <td>2020</td>\n",
       "      <td>2</td>\n",
       "      <td>-1</td>\n",
       "      <td>2020-04-27</td>\n",
       "    </tr>\n",
       "    <tr>\n",
       "      <th>13</th>\n",
       "      <td>2</td>\n",
       "      <td>10</td>\n",
       "      <td>12446.28</td>\n",
       "      <td>462.0</td>\n",
       "      <td>7</td>\n",
       "      <td>3</td>\n",
       "      <td>2020</td>\n",
       "      <td>1</td>\n",
       "      <td>3</td>\n",
       "      <td>2020-03-14</td>\n",
       "    </tr>\n",
       "    <tr>\n",
       "      <th>22</th>\n",
       "      <td>2</td>\n",
       "      <td>5</td>\n",
       "      <td>11889.49</td>\n",
       "      <td>15506.0</td>\n",
       "      <td>6</td>\n",
       "      <td>4</td>\n",
       "      <td>2020</td>\n",
       "      <td>2</td>\n",
       "      <td>1</td>\n",
       "      <td>2020-04-22</td>\n",
       "    </tr>\n",
       "    <tr>\n",
       "      <th>29</th>\n",
       "      <td>2</td>\n",
       "      <td>1</td>\n",
       "      <td>20691.83</td>\n",
       "      <td>10524.0</td>\n",
       "      <td>21</td>\n",
       "      <td>3</td>\n",
       "      <td>2020</td>\n",
       "      <td>1</td>\n",
       "      <td>0</td>\n",
       "      <td>2020-04-06</td>\n",
       "    </tr>\n",
       "    <tr>\n",
       "      <th>45</th>\n",
       "      <td>2</td>\n",
       "      <td>1</td>\n",
       "      <td>8058.89</td>\n",
       "      <td>590.0</td>\n",
       "      <td>31</td>\n",
       "      <td>3</td>\n",
       "      <td>2020</td>\n",
       "      <td>1</td>\n",
       "      <td>-27</td>\n",
       "      <td>2020-05-09</td>\n",
       "    </tr>\n",
       "    <tr>\n",
       "      <th>...</th>\n",
       "      <td>...</td>\n",
       "      <td>...</td>\n",
       "      <td>...</td>\n",
       "      <td>...</td>\n",
       "      <td>...</td>\n",
       "      <td>...</td>\n",
       "      <td>...</td>\n",
       "      <td>...</td>\n",
       "      <td>...</td>\n",
       "      <td>...</td>\n",
       "    </tr>\n",
       "    <tr>\n",
       "      <th>49982</th>\n",
       "      <td>2</td>\n",
       "      <td>5</td>\n",
       "      <td>132.72</td>\n",
       "      <td>15506.0</td>\n",
       "      <td>27</td>\n",
       "      <td>4</td>\n",
       "      <td>2020</td>\n",
       "      <td>2</td>\n",
       "      <td>5</td>\n",
       "      <td>2020-05-16</td>\n",
       "    </tr>\n",
       "    <tr>\n",
       "      <th>49985</th>\n",
       "      <td>2</td>\n",
       "      <td>1</td>\n",
       "      <td>53216.50</td>\n",
       "      <td>10524.0</td>\n",
       "      <td>22</td>\n",
       "      <td>3</td>\n",
       "      <td>2020</td>\n",
       "      <td>1</td>\n",
       "      <td>0</td>\n",
       "      <td>2020-04-07</td>\n",
       "    </tr>\n",
       "    <tr>\n",
       "      <th>49987</th>\n",
       "      <td>2</td>\n",
       "      <td>1</td>\n",
       "      <td>1322.22</td>\n",
       "      <td>10524.0</td>\n",
       "      <td>18</td>\n",
       "      <td>3</td>\n",
       "      <td>2020</td>\n",
       "      <td>1</td>\n",
       "      <td>0</td>\n",
       "      <td>2020-04-03</td>\n",
       "    </tr>\n",
       "    <tr>\n",
       "      <th>49988</th>\n",
       "      <td>2</td>\n",
       "      <td>1</td>\n",
       "      <td>73209.62</td>\n",
       "      <td>15506.0</td>\n",
       "      <td>3</td>\n",
       "      <td>3</td>\n",
       "      <td>2020</td>\n",
       "      <td>1</td>\n",
       "      <td>-2</td>\n",
       "      <td>2020-03-16</td>\n",
       "    </tr>\n",
       "    <tr>\n",
       "      <th>49994</th>\n",
       "      <td>2</td>\n",
       "      <td>4</td>\n",
       "      <td>18815.63</td>\n",
       "      <td>15506.0</td>\n",
       "      <td>13</td>\n",
       "      <td>4</td>\n",
       "      <td>2020</td>\n",
       "      <td>2</td>\n",
       "      <td>1</td>\n",
       "      <td>2020-04-30</td>\n",
       "    </tr>\n",
       "  </tbody>\n",
       "</table>\n",
       "<p>9992 rows × 10 columns</p>\n",
       "</div>"
      ],
      "text/plain": [
       "       business_code  cust_number  total_open_amount  cust_payment_terms  \\\n",
       "4                  2            1           95651.82             15506.0   \n",
       "13                 2           10           12446.28               462.0   \n",
       "22                 2            5           11889.49             15506.0   \n",
       "29                 2            1           20691.83             10524.0   \n",
       "45                 2            1            8058.89               590.0   \n",
       "...              ...          ...                ...                 ...   \n",
       "49982              2            5             132.72             15506.0   \n",
       "49985              2            1           53216.50             10524.0   \n",
       "49987              2            1            1322.22             10524.0   \n",
       "49988              2            1           73209.62             15506.0   \n",
       "49994              2            4           18815.63             15506.0   \n",
       "\n",
       "       document_create_date_day  document_create_date_month  \\\n",
       "4                            11                           4   \n",
       "13                            7                           3   \n",
       "22                            6                           4   \n",
       "29                           21                           3   \n",
       "45                           31                           3   \n",
       "...                         ...                         ...   \n",
       "49982                        27                           4   \n",
       "49985                        22                           3   \n",
       "49987                        18                           3   \n",
       "49988                         3                           3   \n",
       "49994                        13                           4   \n",
       "\n",
       "       document_create_date_year  document_create_date_quarter  delay  \\\n",
       "4                           2020                             2     -1   \n",
       "13                          2020                             1      3   \n",
       "22                          2020                             2      1   \n",
       "29                          2020                             1      0   \n",
       "45                          2020                             1    -27   \n",
       "...                          ...                           ...    ...   \n",
       "49982                       2020                             2      5   \n",
       "49985                       2020                             1      0   \n",
       "49987                       2020                             1      0   \n",
       "49988                       2020                             1     -2   \n",
       "49994                       2020                             2      1   \n",
       "\n",
       "      Payment date prediction  \n",
       "4                  2020-04-27  \n",
       "13                 2020-03-14  \n",
       "22                 2020-04-22  \n",
       "29                 2020-04-06  \n",
       "45                 2020-05-09  \n",
       "...                       ...  \n",
       "49982              2020-05-16  \n",
       "49985              2020-04-07  \n",
       "49987              2020-04-03  \n",
       "49988              2020-03-16  \n",
       "49994              2020-04-30  \n",
       "\n",
       "[9992 rows x 10 columns]"
      ]
     },
     "execution_count": 98,
     "metadata": {},
     "output_type": "execute_result"
    }
   ],
   "source": [
    "final_test_df"
   ]
  },
  {
   "cell_type": "markdown",
   "metadata": {},
   "source": [
    "# Bucketisation"
   ]
  },
  {
   "cell_type": "code",
   "execution_count": 99,
   "metadata": {},
   "outputs": [],
   "source": [
    "aging_bucket = []\n",
    "for x in final_test_df['delay']:\n",
    "    if x<=0:\n",
    "        aging_bucket.append(\"0 days\")\n",
    "        \n",
    "    elif x<=15:\n",
    "        aging_bucket.append(\"1-15days\")\n",
    "    elif x<=30:\n",
    "        aging_bucket.append(\"16-30days\")\n",
    "    elif x<=45:\n",
    "        aging_bucket.append(\"31-45days\")\n",
    "    elif x<=60:\n",
    "        aging_bucket.append(\"46-60days\")\n",
    "    else:\n",
    "        aging_bucket.append(\"Greater than 60 days\")\n",
    "final_test_df['Aging_Bucket']=aging_bucket"
   ]
  },
  {
   "cell_type": "code",
   "execution_count": 100,
   "metadata": {},
   "outputs": [
    {
     "data": {
      "text/html": [
       "<div>\n",
       "<style scoped>\n",
       "    .dataframe tbody tr th:only-of-type {\n",
       "        vertical-align: middle;\n",
       "    }\n",
       "\n",
       "    .dataframe tbody tr th {\n",
       "        vertical-align: top;\n",
       "    }\n",
       "\n",
       "    .dataframe thead th {\n",
       "        text-align: right;\n",
       "    }\n",
       "</style>\n",
       "<table border=\"1\" class=\"dataframe\">\n",
       "  <thead>\n",
       "    <tr style=\"text-align: right;\">\n",
       "      <th></th>\n",
       "      <th>business_code</th>\n",
       "      <th>cust_number</th>\n",
       "      <th>total_open_amount</th>\n",
       "      <th>cust_payment_terms</th>\n",
       "      <th>document_create_date_day</th>\n",
       "      <th>document_create_date_month</th>\n",
       "      <th>document_create_date_year</th>\n",
       "      <th>document_create_date_quarter</th>\n",
       "      <th>delay</th>\n",
       "      <th>Payment date prediction</th>\n",
       "      <th>Aging_Bucket</th>\n",
       "    </tr>\n",
       "  </thead>\n",
       "  <tbody>\n",
       "    <tr>\n",
       "      <th>4</th>\n",
       "      <td>2</td>\n",
       "      <td>1</td>\n",
       "      <td>95651.82</td>\n",
       "      <td>15506.0</td>\n",
       "      <td>11</td>\n",
       "      <td>4</td>\n",
       "      <td>2020</td>\n",
       "      <td>2</td>\n",
       "      <td>-1</td>\n",
       "      <td>2020-04-27</td>\n",
       "      <td>0 days</td>\n",
       "    </tr>\n",
       "    <tr>\n",
       "      <th>13</th>\n",
       "      <td>2</td>\n",
       "      <td>10</td>\n",
       "      <td>12446.28</td>\n",
       "      <td>462.0</td>\n",
       "      <td>7</td>\n",
       "      <td>3</td>\n",
       "      <td>2020</td>\n",
       "      <td>1</td>\n",
       "      <td>3</td>\n",
       "      <td>2020-03-14</td>\n",
       "      <td>1-15days</td>\n",
       "    </tr>\n",
       "    <tr>\n",
       "      <th>22</th>\n",
       "      <td>2</td>\n",
       "      <td>5</td>\n",
       "      <td>11889.49</td>\n",
       "      <td>15506.0</td>\n",
       "      <td>6</td>\n",
       "      <td>4</td>\n",
       "      <td>2020</td>\n",
       "      <td>2</td>\n",
       "      <td>1</td>\n",
       "      <td>2020-04-22</td>\n",
       "      <td>1-15days</td>\n",
       "    </tr>\n",
       "    <tr>\n",
       "      <th>29</th>\n",
       "      <td>2</td>\n",
       "      <td>1</td>\n",
       "      <td>20691.83</td>\n",
       "      <td>10524.0</td>\n",
       "      <td>21</td>\n",
       "      <td>3</td>\n",
       "      <td>2020</td>\n",
       "      <td>1</td>\n",
       "      <td>0</td>\n",
       "      <td>2020-04-06</td>\n",
       "      <td>0 days</td>\n",
       "    </tr>\n",
       "    <tr>\n",
       "      <th>45</th>\n",
       "      <td>2</td>\n",
       "      <td>1</td>\n",
       "      <td>8058.89</td>\n",
       "      <td>590.0</td>\n",
       "      <td>31</td>\n",
       "      <td>3</td>\n",
       "      <td>2020</td>\n",
       "      <td>1</td>\n",
       "      <td>-27</td>\n",
       "      <td>2020-05-09</td>\n",
       "      <td>0 days</td>\n",
       "    </tr>\n",
       "    <tr>\n",
       "      <th>...</th>\n",
       "      <td>...</td>\n",
       "      <td>...</td>\n",
       "      <td>...</td>\n",
       "      <td>...</td>\n",
       "      <td>...</td>\n",
       "      <td>...</td>\n",
       "      <td>...</td>\n",
       "      <td>...</td>\n",
       "      <td>...</td>\n",
       "      <td>...</td>\n",
       "      <td>...</td>\n",
       "    </tr>\n",
       "    <tr>\n",
       "      <th>49982</th>\n",
       "      <td>2</td>\n",
       "      <td>5</td>\n",
       "      <td>132.72</td>\n",
       "      <td>15506.0</td>\n",
       "      <td>27</td>\n",
       "      <td>4</td>\n",
       "      <td>2020</td>\n",
       "      <td>2</td>\n",
       "      <td>5</td>\n",
       "      <td>2020-05-16</td>\n",
       "      <td>1-15days</td>\n",
       "    </tr>\n",
       "    <tr>\n",
       "      <th>49985</th>\n",
       "      <td>2</td>\n",
       "      <td>1</td>\n",
       "      <td>53216.50</td>\n",
       "      <td>10524.0</td>\n",
       "      <td>22</td>\n",
       "      <td>3</td>\n",
       "      <td>2020</td>\n",
       "      <td>1</td>\n",
       "      <td>0</td>\n",
       "      <td>2020-04-07</td>\n",
       "      <td>0 days</td>\n",
       "    </tr>\n",
       "    <tr>\n",
       "      <th>49987</th>\n",
       "      <td>2</td>\n",
       "      <td>1</td>\n",
       "      <td>1322.22</td>\n",
       "      <td>10524.0</td>\n",
       "      <td>18</td>\n",
       "      <td>3</td>\n",
       "      <td>2020</td>\n",
       "      <td>1</td>\n",
       "      <td>0</td>\n",
       "      <td>2020-04-03</td>\n",
       "      <td>0 days</td>\n",
       "    </tr>\n",
       "    <tr>\n",
       "      <th>49988</th>\n",
       "      <td>2</td>\n",
       "      <td>1</td>\n",
       "      <td>73209.62</td>\n",
       "      <td>15506.0</td>\n",
       "      <td>3</td>\n",
       "      <td>3</td>\n",
       "      <td>2020</td>\n",
       "      <td>1</td>\n",
       "      <td>-2</td>\n",
       "      <td>2020-03-16</td>\n",
       "      <td>0 days</td>\n",
       "    </tr>\n",
       "    <tr>\n",
       "      <th>49994</th>\n",
       "      <td>2</td>\n",
       "      <td>4</td>\n",
       "      <td>18815.63</td>\n",
       "      <td>15506.0</td>\n",
       "      <td>13</td>\n",
       "      <td>4</td>\n",
       "      <td>2020</td>\n",
       "      <td>2</td>\n",
       "      <td>1</td>\n",
       "      <td>2020-04-30</td>\n",
       "      <td>1-15days</td>\n",
       "    </tr>\n",
       "  </tbody>\n",
       "</table>\n",
       "<p>9992 rows × 11 columns</p>\n",
       "</div>"
      ],
      "text/plain": [
       "       business_code  cust_number  total_open_amount  cust_payment_terms  \\\n",
       "4                  2            1           95651.82             15506.0   \n",
       "13                 2           10           12446.28               462.0   \n",
       "22                 2            5           11889.49             15506.0   \n",
       "29                 2            1           20691.83             10524.0   \n",
       "45                 2            1            8058.89               590.0   \n",
       "...              ...          ...                ...                 ...   \n",
       "49982              2            5             132.72             15506.0   \n",
       "49985              2            1           53216.50             10524.0   \n",
       "49987              2            1            1322.22             10524.0   \n",
       "49988              2            1           73209.62             15506.0   \n",
       "49994              2            4           18815.63             15506.0   \n",
       "\n",
       "       document_create_date_day  document_create_date_month  \\\n",
       "4                            11                           4   \n",
       "13                            7                           3   \n",
       "22                            6                           4   \n",
       "29                           21                           3   \n",
       "45                           31                           3   \n",
       "...                         ...                         ...   \n",
       "49982                        27                           4   \n",
       "49985                        22                           3   \n",
       "49987                        18                           3   \n",
       "49988                         3                           3   \n",
       "49994                        13                           4   \n",
       "\n",
       "       document_create_date_year  document_create_date_quarter  delay  \\\n",
       "4                           2020                             2     -1   \n",
       "13                          2020                             1      3   \n",
       "22                          2020                             2      1   \n",
       "29                          2020                             1      0   \n",
       "45                          2020                             1    -27   \n",
       "...                          ...                           ...    ...   \n",
       "49982                       2020                             2      5   \n",
       "49985                       2020                             1      0   \n",
       "49987                       2020                             1      0   \n",
       "49988                       2020                             1     -2   \n",
       "49994                       2020                             2      1   \n",
       "\n",
       "      Payment date prediction Aging_Bucket  \n",
       "4                  2020-04-27       0 days  \n",
       "13                 2020-03-14     1-15days  \n",
       "22                 2020-04-22     1-15days  \n",
       "29                 2020-04-06       0 days  \n",
       "45                 2020-05-09       0 days  \n",
       "...                       ...          ...  \n",
       "49982              2020-05-16     1-15days  \n",
       "49985              2020-04-07       0 days  \n",
       "49987              2020-04-03       0 days  \n",
       "49988              2020-03-16       0 days  \n",
       "49994              2020-04-30     1-15days  \n",
       "\n",
       "[9992 rows x 11 columns]"
      ]
     },
     "execution_count": 100,
     "metadata": {},
     "output_type": "execute_result"
    }
   ],
   "source": [
    "final_test_df"
   ]
  },
  {
   "cell_type": "code",
   "execution_count": 101,
   "metadata": {},
   "outputs": [
    {
     "data": {
      "text/plain": [
       "0 days                  5795\n",
       "1-15days                3944\n",
       "16-30days                147\n",
       "Greater than 60 days      79\n",
       "46-60days                 15\n",
       "31-45days                 12\n",
       "Name: Aging_Bucket, dtype: int64"
      ]
     },
     "execution_count": 101,
     "metadata": {},
     "output_type": "execute_result"
    }
   ],
   "source": [
    "#counting the values \n",
    "final_test_df.Aging_Bucket.value_counts()"
   ]
  },
  {
   "cell_type": "markdown",
   "metadata": {},
   "source": [
    "# All Completed"
   ]
  }
 ],
 "metadata": {
  "kernelspec": {
   "display_name": "Python 3",
   "language": "python",
   "name": "python3"
  },
  "language_info": {
   "codemirror_mode": {
    "name": "ipython",
    "version": 3
   },
   "file_extension": ".py",
   "mimetype": "text/x-python",
   "name": "python",
   "nbconvert_exporter": "python",
   "pygments_lexer": "ipython3",
   "version": "3.9.5"
  }
 },
 "nbformat": 4,
 "nbformat_minor": 4
}
